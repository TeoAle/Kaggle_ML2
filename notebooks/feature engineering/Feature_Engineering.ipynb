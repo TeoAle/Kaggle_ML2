{
 "cells": [
  {
   "cell_type": "markdown",
   "metadata": {},
   "source": [
    "# Feature Engineering"
   ]
  },
  {
   "cell_type": "markdown",
   "metadata": {},
   "source": [
    "## Kaggle ML2\n",
    "## Matteo A. D'Alessandro, Carlo A. Patti"
   ]
  },
  {
   "cell_type": "markdown",
   "metadata": {},
   "source": [
    "In this notebook we are going to:\n",
    "\n",
    "- Delete columns which has `'0'` value for all observation.\n",
    "- Delete observation which has null values in any of its features.\n",
    "- Deleting duplicate entries but keeping first.\n",
    "- Take a look at if any observations is present in more than one type in same category of Wilderness and Soil Type.\n",
    "- Reducing features by keeping best.\n",
    "- Scaling values in specific range.\n",
    "- Peform Train-Test Split."
   ]
  },
  {
   "cell_type": "code",
   "execution_count": null,
   "metadata": {},
   "outputs": [],
   "source": [
    "import numpy as np\n",
    "import matplotlib.pyplot as plt\n",
    "import pandas as pd\n",
    "import seaborn as sns\n",
    "import sys\n",
    "\n",
    "sys.path.append('../../src')\n",
    "from dataloader import *\n",
    "\n",
    "%reload_ext autoreload\n",
    "%autoreload 2\n",
    "\n",
    "plots_theme = \"plotly_dark\""
   ]
  },
  {
   "cell_type": "code",
   "execution_count": null,
   "metadata": {},
   "outputs": [],
   "source": [
    "df = load_train_df(\n",
    "    PATH = '../../data',\n",
    "    decode_dummies=False\n",
    ")"
   ]
  },
  {
   "cell_type": "code",
   "execution_count": null,
   "metadata": {},
   "outputs": [],
   "source": [
    "num_features = df.iloc[:,0:10]\n",
    "cat_features = df.iloc[:, 10:-1]\n",
    "\n",
    "wild_data, soil_data = cat_features.iloc[:,:4], cat_features.iloc[:,4:]"
   ]
  },
  {
   "cell_type": "markdown",
   "metadata": {},
   "source": [
    "### Observation Cleaning"
   ]
  },
  {
   "cell_type": "markdown",
   "metadata": {},
   "source": [
    "There's a possibility where we can have an observation where `Soil Type` and `Wilderness Area` are recorded as present for more than one type or maybe none.\n",
    "\n",
    "Below code will show us if we have any..\n",
    "\n",
    "**Checking for Wilderness Area.**"
   ]
  },
  {
   "cell_type": "markdown",
   "metadata": {},
   "source": [
    "Checking if any observation have more than 1 presence of Wilderness area at same time or None"
   ]
  },
  {
   "cell_type": "code",
   "execution_count": 5,
   "metadata": {},
   "outputs": [
    {
     "name": "stdout",
     "output_type": "stream",
     "text": [
      "We have  0  observations that shows presence in more than 1 Wilderness Area.\n",
      "We have  0  observations that shows no presence in any Wilderness Area.\n"
     ]
    }
   ],
   "source": [
    "# Count for more than 1 presence\n",
    "more_count = 0\n",
    "# Count for none presence\n",
    "none_count = 0\n",
    "# total count\n",
    "total = 0\n",
    "\n",
    "for index, row in wild_data.iterrows():\n",
    "    total = row.sum(axis=0)\n",
    "    \n",
    "    #checking greater than 1\n",
    "    if total > 1:\n",
    "        more_count =+ 1\n",
    "        # reset the total\n",
    "        total = 0\n",
    "        break\n",
    "        \n",
    "    #checking for none   \n",
    "    if total == 0:\n",
    "        # if found, increment count by 1\n",
    "        none_count =+ 1\n",
    "        # reset the total\n",
    "        total = 0      \n",
    "\n",
    "print('We have ', more_count, ' observations that shows presence in more than 1 Wilderness Area.')\n",
    "print('We have ' ,none_count, ' observations that shows no presence in any Wilderness Area.')"
   ]
  },
  {
   "cell_type": "markdown",
   "metadata": {},
   "source": [
    "**Checking for Soil Type.**"
   ]
  },
  {
   "cell_type": "markdown",
   "metadata": {},
   "source": [
    "Checking if any observation have more than 1 presence of Soil Type area at same time or None"
   ]
  },
  {
   "cell_type": "code",
   "execution_count": 7,
   "metadata": {},
   "outputs": [
    {
     "name": "stdout",
     "output_type": "stream",
     "text": [
      "We have  0  observations that shows presence in more than 1 Soil Type Area.\n",
      "We have  0  observations that shows no presence in any Soil Type Area.\n"
     ]
    }
   ],
   "source": [
    "more_count = 0\n",
    "none_count = 0\n",
    "total = 0\n",
    "\n",
    "for index, row in soil_data.iterrows():\n",
    "    total = row.sum(axis=0)\n",
    "    \n",
    "    if total > 1:\n",
    "        more_count =+ 1\n",
    "        total = 0\n",
    "\n",
    "        break\n",
    "        \n",
    "    if total == 0:\n",
    "        none_count =+ 1\n",
    "        total = 0      \n",
    "\n",
    "print('We have ', more_count, ' observations that shows presence in more than 1 Soil Type Area.')\n",
    "print('We have ' ,none_count, ' observations that shows no presence in any Soil Type Area.')"
   ]
  },
  {
   "cell_type": "markdown",
   "metadata": {},
   "source": [
    "#### Handling Missing Values"
   ]
  },
  {
   "cell_type": "markdown",
   "metadata": {},
   "source": [
    "**Removing Observation which has any Missing Values in it**"
   ]
  },
  {
   "cell_type": "code",
   "execution_count": 8,
   "metadata": {},
   "outputs": [
    {
     "data": {
      "text/plain": [
       "(15120, 55)"
      ]
     },
     "execution_count": 8,
     "metadata": {},
     "output_type": "execute_result"
    }
   ],
   "source": [
    "df.dropna()\n",
    "\n",
    "df.shape"
   ]
  },
  {
   "cell_type": "markdown",
   "metadata": {},
   "source": [
    "There are no missing values in the dataset."
   ]
  },
  {
   "cell_type": "markdown",
   "metadata": {},
   "source": [
    "#### Handling Duplicates"
   ]
  },
  {
   "cell_type": "code",
   "execution_count": 9,
   "metadata": {},
   "outputs": [
    {
     "data": {
      "text/plain": [
       "(15120, 55)"
      ]
     },
     "execution_count": 9,
     "metadata": {},
     "output_type": "execute_result"
    }
   ],
   "source": [
    "df.drop_duplicates(keep='first')\n",
    "\n",
    "df.shape"
   ]
  },
  {
   "cell_type": "markdown",
   "metadata": {},
   "source": [
    "There are no duplicates in the dataset."
   ]
  },
  {
   "cell_type": "markdown",
   "metadata": {},
   "source": [
    "### Dimentionality Reduction\n",
    "\n",
    "- Since we already have lots of observation now to train the model, we also happen to have lots of features. This will make algorithm run very slowly, have difficulty in learning and also tend to overfit in training set and do worse in testing.\n",
    "\n",
    "- We also see above in visualization section that `Wilderness Area` and `Soil Type` Area have no category that has no observations of it. So every feature has presence or values of an observations so we can't just delete any feature since it may have an important informations for our models in predicting classes.\n",
    "\n",
    "- To approach such a problem, we need to see how each feature has an impact on prediciting classes, and the best way to do this is by asking the models only.\n",
    "\n",
    "- Classifiers like `Extra Trees, Random Forest, Gradient Boosting Classifiers and AdaBoost` offer an attribute called `'feature_importance_'` with which we can see that which feature has more importance compared to others and by how much.\n",
    "\n",
    "So now let's run all the 4 classifiers on our entire model, train from it and give us which feature for that was important in terms of predicting classes."
   ]
  },
  {
   "cell_type": "markdown",
   "metadata": {},
   "source": [
    "#### Extra-Trees Classifier"
   ]
  },
  {
   "cell_type": "code",
   "execution_count": 10,
   "metadata": {},
   "outputs": [
    {
     "data": {
      "text/html": [
       "<div>\n",
       "<style scoped>\n",
       "    .dataframe tbody tr th:only-of-type {\n",
       "        vertical-align: middle;\n",
       "    }\n",
       "\n",
       "    .dataframe tbody tr th {\n",
       "        vertical-align: top;\n",
       "    }\n",
       "\n",
       "    .dataframe thead th {\n",
       "        text-align: right;\n",
       "    }\n",
       "</style>\n",
       "<table border=\"1\" class=\"dataframe\">\n",
       "  <thead>\n",
       "    <tr style=\"text-align: right;\">\n",
       "      <th></th>\n",
       "      <th>ETC</th>\n",
       "    </tr>\n",
       "  </thead>\n",
       "  <tbody>\n",
       "    <tr>\n",
       "      <th>Elevation</th>\n",
       "      <td>0.166172</td>\n",
       "    </tr>\n",
       "    <tr>\n",
       "      <th>Horizontal_Distance_To_Roadways</th>\n",
       "      <td>0.081416</td>\n",
       "    </tr>\n",
       "    <tr>\n",
       "      <th>Horizontal_Distance_To_Fire_Points</th>\n",
       "      <td>0.067628</td>\n",
       "    </tr>\n",
       "    <tr>\n",
       "      <th>Horizontal_Distance_To_Hydrology</th>\n",
       "      <td>0.058656</td>\n",
       "    </tr>\n",
       "    <tr>\n",
       "      <th>Wilderness_Area4</th>\n",
       "      <td>0.052043</td>\n",
       "    </tr>\n",
       "    <tr>\n",
       "      <th>Vertical_Distance_To_Hydrology</th>\n",
       "      <td>0.049678</td>\n",
       "    </tr>\n",
       "    <tr>\n",
       "      <th>Aspect</th>\n",
       "      <td>0.049159</td>\n",
       "    </tr>\n",
       "    <tr>\n",
       "      <th>Hillshade_9am</th>\n",
       "      <td>0.048314</td>\n",
       "    </tr>\n",
       "    <tr>\n",
       "      <th>Hillshade_3pm</th>\n",
       "      <td>0.045403</td>\n",
       "    </tr>\n",
       "    <tr>\n",
       "      <th>Hillshade_Noon</th>\n",
       "      <td>0.045079</td>\n",
       "    </tr>\n",
       "  </tbody>\n",
       "</table>\n",
       "</div>"
      ],
      "text/plain": [
       "                                         ETC\n",
       "Elevation                           0.166172\n",
       "Horizontal_Distance_To_Roadways     0.081416\n",
       "Horizontal_Distance_To_Fire_Points  0.067628\n",
       "Horizontal_Distance_To_Hydrology    0.058656\n",
       "Wilderness_Area4                    0.052043\n",
       "Vertical_Distance_To_Hydrology      0.049678\n",
       "Aspect                              0.049159\n",
       "Hillshade_9am                       0.048314\n",
       "Hillshade_3pm                       0.045403\n",
       "Hillshade_Noon                      0.045079"
      ]
     },
     "execution_count": 10,
     "metadata": {},
     "output_type": "execute_result"
    }
   ],
   "source": [
    "from sklearn.ensemble import ExtraTreesClassifier\n",
    "\n",
    "model = ExtraTreesClassifier(random_state = 42)\n",
    "\n",
    "X = df.iloc[:,:-1]\n",
    "y = df['Cover_Type']\n",
    "\n",
    "model.fit(X, y)\n",
    "\n",
    "# extracting feature importance from model and making a dataframe of it in descending order\n",
    "ETC_feature_importances = pd.DataFrame(model.feature_importances_, index = X.columns, columns=['ETC']).sort_values('ETC', ascending=False)\n",
    "\n",
    "model = None\n",
    "\n",
    "ETC_feature_importances.head(10)"
   ]
  },
  {
   "cell_type": "markdown",
   "metadata": {},
   "source": [
    "#### Random Forest Classifier"
   ]
  },
  {
   "cell_type": "code",
   "execution_count": 11,
   "metadata": {},
   "outputs": [
    {
     "data": {
      "text/html": [
       "<div>\n",
       "<style scoped>\n",
       "    .dataframe tbody tr th:only-of-type {\n",
       "        vertical-align: middle;\n",
       "    }\n",
       "\n",
       "    .dataframe tbody tr th {\n",
       "        vertical-align: top;\n",
       "    }\n",
       "\n",
       "    .dataframe thead th {\n",
       "        text-align: right;\n",
       "    }\n",
       "</style>\n",
       "<table border=\"1\" class=\"dataframe\">\n",
       "  <thead>\n",
       "    <tr style=\"text-align: right;\">\n",
       "      <th></th>\n",
       "      <th>RFC</th>\n",
       "    </tr>\n",
       "  </thead>\n",
       "  <tbody>\n",
       "    <tr>\n",
       "      <th>Elevation</th>\n",
       "      <td>0.223542</td>\n",
       "    </tr>\n",
       "    <tr>\n",
       "      <th>Horizontal_Distance_To_Roadways</th>\n",
       "      <td>0.094263</td>\n",
       "    </tr>\n",
       "    <tr>\n",
       "      <th>Horizontal_Distance_To_Fire_Points</th>\n",
       "      <td>0.074507</td>\n",
       "    </tr>\n",
       "    <tr>\n",
       "      <th>Horizontal_Distance_To_Hydrology</th>\n",
       "      <td>0.061820</td>\n",
       "    </tr>\n",
       "    <tr>\n",
       "      <th>Vertical_Distance_To_Hydrology</th>\n",
       "      <td>0.053246</td>\n",
       "    </tr>\n",
       "    <tr>\n",
       "      <th>Hillshade_9am</th>\n",
       "      <td>0.050765</td>\n",
       "    </tr>\n",
       "    <tr>\n",
       "      <th>Aspect</th>\n",
       "      <td>0.047537</td>\n",
       "    </tr>\n",
       "    <tr>\n",
       "      <th>Hillshade_3pm</th>\n",
       "      <td>0.045444</td>\n",
       "    </tr>\n",
       "    <tr>\n",
       "      <th>Hillshade_Noon</th>\n",
       "      <td>0.044717</td>\n",
       "    </tr>\n",
       "    <tr>\n",
       "      <th>Wilderness_Area4</th>\n",
       "      <td>0.042976</td>\n",
       "    </tr>\n",
       "  </tbody>\n",
       "</table>\n",
       "</div>"
      ],
      "text/plain": [
       "                                         RFC\n",
       "Elevation                           0.223542\n",
       "Horizontal_Distance_To_Roadways     0.094263\n",
       "Horizontal_Distance_To_Fire_Points  0.074507\n",
       "Horizontal_Distance_To_Hydrology    0.061820\n",
       "Vertical_Distance_To_Hydrology      0.053246\n",
       "Hillshade_9am                       0.050765\n",
       "Aspect                              0.047537\n",
       "Hillshade_3pm                       0.045444\n",
       "Hillshade_Noon                      0.044717\n",
       "Wilderness_Area4                    0.042976"
      ]
     },
     "execution_count": 11,
     "metadata": {},
     "output_type": "execute_result"
    }
   ],
   "source": [
    "from sklearn.ensemble import RandomForestClassifier\n",
    "\n",
    "model = RandomForestClassifier(random_state = 42)\n",
    "\n",
    "model.fit(X, y)\n",
    "\n",
    "# extracting feature importance from model and making a dataframe of it in descending order\n",
    "RFC_feature_importances = pd.DataFrame(model.feature_importances_, index = X.columns, columns=['RFC']).sort_values('RFC', ascending=False)\n",
    "\n",
    "model = None\n",
    "\n",
    "RFC_feature_importances.head(10)"
   ]
  },
  {
   "cell_type": "markdown",
   "metadata": {},
   "source": [
    "#### AdaBoost Classifier"
   ]
  },
  {
   "cell_type": "code",
   "execution_count": 12,
   "metadata": {},
   "outputs": [
    {
     "data": {
      "text/html": [
       "<div>\n",
       "<style scoped>\n",
       "    .dataframe tbody tr th:only-of-type {\n",
       "        vertical-align: middle;\n",
       "    }\n",
       "\n",
       "    .dataframe tbody tr th {\n",
       "        vertical-align: top;\n",
       "    }\n",
       "\n",
       "    .dataframe thead th {\n",
       "        text-align: right;\n",
       "    }\n",
       "</style>\n",
       "<table border=\"1\" class=\"dataframe\">\n",
       "  <thead>\n",
       "    <tr style=\"text-align: right;\">\n",
       "      <th></th>\n",
       "      <th>ADB</th>\n",
       "    </tr>\n",
       "  </thead>\n",
       "  <tbody>\n",
       "    <tr>\n",
       "      <th>Wilderness_Area4</th>\n",
       "      <td>0.46</td>\n",
       "    </tr>\n",
       "    <tr>\n",
       "      <th>Elevation</th>\n",
       "      <td>0.30</td>\n",
       "    </tr>\n",
       "    <tr>\n",
       "      <th>Horizontal_Distance_To_Fire_Points</th>\n",
       "      <td>0.08</td>\n",
       "    </tr>\n",
       "    <tr>\n",
       "      <th>Vertical_Distance_To_Hydrology</th>\n",
       "      <td>0.06</td>\n",
       "    </tr>\n",
       "    <tr>\n",
       "      <th>Aspect</th>\n",
       "      <td>0.04</td>\n",
       "    </tr>\n",
       "    <tr>\n",
       "      <th>Horizontal_Distance_To_Hydrology</th>\n",
       "      <td>0.02</td>\n",
       "    </tr>\n",
       "    <tr>\n",
       "      <th>Slope</th>\n",
       "      <td>0.02</td>\n",
       "    </tr>\n",
       "    <tr>\n",
       "      <th>Soil_Type4</th>\n",
       "      <td>0.02</td>\n",
       "    </tr>\n",
       "    <tr>\n",
       "      <th>Soil_Type20</th>\n",
       "      <td>0.00</td>\n",
       "    </tr>\n",
       "    <tr>\n",
       "      <th>Soil_Type21</th>\n",
       "      <td>0.00</td>\n",
       "    </tr>\n",
       "  </tbody>\n",
       "</table>\n",
       "</div>"
      ],
      "text/plain": [
       "                                     ADB\n",
       "Wilderness_Area4                    0.46\n",
       "Elevation                           0.30\n",
       "Horizontal_Distance_To_Fire_Points  0.08\n",
       "Vertical_Distance_To_Hydrology      0.06\n",
       "Aspect                              0.04\n",
       "Horizontal_Distance_To_Hydrology    0.02\n",
       "Slope                               0.02\n",
       "Soil_Type4                          0.02\n",
       "Soil_Type20                         0.00\n",
       "Soil_Type21                         0.00"
      ]
     },
     "execution_count": 12,
     "metadata": {},
     "output_type": "execute_result"
    }
   ],
   "source": [
    "from sklearn.ensemble import AdaBoostClassifier\n",
    "\n",
    "model = AdaBoostClassifier(random_state = 53)\n",
    "\n",
    "model.fit(X, y)\n",
    "\n",
    "# extracting feature importance from model and making a dataframe of it in descending order\n",
    "ADB_feature_importances = pd.DataFrame(model.feature_importances_, index = X.columns, columns=['ADB']).sort_values('ADB', ascending=False)\n",
    "\n",
    "model = None\n",
    "\n",
    "ADB_feature_importances.head(10)"
   ]
  },
  {
   "cell_type": "markdown",
   "metadata": {},
   "source": [
    "#### Gradient Boosting Classifier"
   ]
  },
  {
   "cell_type": "code",
   "execution_count": 13,
   "metadata": {},
   "outputs": [
    {
     "data": {
      "text/html": [
       "<div>\n",
       "<style scoped>\n",
       "    .dataframe tbody tr th:only-of-type {\n",
       "        vertical-align: middle;\n",
       "    }\n",
       "\n",
       "    .dataframe tbody tr th {\n",
       "        vertical-align: top;\n",
       "    }\n",
       "\n",
       "    .dataframe thead th {\n",
       "        text-align: right;\n",
       "    }\n",
       "</style>\n",
       "<table border=\"1\" class=\"dataframe\">\n",
       "  <thead>\n",
       "    <tr style=\"text-align: right;\">\n",
       "      <th></th>\n",
       "      <th>GBC</th>\n",
       "    </tr>\n",
       "  </thead>\n",
       "  <tbody>\n",
       "    <tr>\n",
       "      <th>Elevation</th>\n",
       "      <td>0.585156</td>\n",
       "    </tr>\n",
       "    <tr>\n",
       "      <th>Soil_Type10</th>\n",
       "      <td>0.057545</td>\n",
       "    </tr>\n",
       "    <tr>\n",
       "      <th>Horizontal_Distance_To_Roadways</th>\n",
       "      <td>0.047709</td>\n",
       "    </tr>\n",
       "    <tr>\n",
       "      <th>Horizontal_Distance_To_Hydrology</th>\n",
       "      <td>0.042280</td>\n",
       "    </tr>\n",
       "    <tr>\n",
       "      <th>Hillshade_9am</th>\n",
       "      <td>0.039397</td>\n",
       "    </tr>\n",
       "    <tr>\n",
       "      <th>Horizontal_Distance_To_Fire_Points</th>\n",
       "      <td>0.039290</td>\n",
       "    </tr>\n",
       "    <tr>\n",
       "      <th>Soil_Type30</th>\n",
       "      <td>0.021908</td>\n",
       "    </tr>\n",
       "    <tr>\n",
       "      <th>Vertical_Distance_To_Hydrology</th>\n",
       "      <td>0.020034</td>\n",
       "    </tr>\n",
       "    <tr>\n",
       "      <th>Soil_Type4</th>\n",
       "      <td>0.016131</td>\n",
       "    </tr>\n",
       "    <tr>\n",
       "      <th>Soil_Type12</th>\n",
       "      <td>0.014350</td>\n",
       "    </tr>\n",
       "  </tbody>\n",
       "</table>\n",
       "</div>"
      ],
      "text/plain": [
       "                                         GBC\n",
       "Elevation                           0.585156\n",
       "Soil_Type10                         0.057545\n",
       "Horizontal_Distance_To_Roadways     0.047709\n",
       "Horizontal_Distance_To_Hydrology    0.042280\n",
       "Hillshade_9am                       0.039397\n",
       "Horizontal_Distance_To_Fire_Points  0.039290\n",
       "Soil_Type30                         0.021908\n",
       "Vertical_Distance_To_Hydrology      0.020034\n",
       "Soil_Type4                          0.016131\n",
       "Soil_Type12                         0.014350"
      ]
     },
     "execution_count": 13,
     "metadata": {},
     "output_type": "execute_result"
    }
   ],
   "source": [
    "from sklearn.ensemble import GradientBoostingClassifier\n",
    "\n",
    "model = GradientBoostingClassifier(random_state = 53)\n",
    "\n",
    "model.fit(X, y)\n",
    "\n",
    "# extracting feature importance from model and making a dataframe of it in descending order\n",
    "GBC_feature_importances = pd.DataFrame(model.feature_importances_, index = X.columns, columns=['GBC']).sort_values('GBC', ascending=False)\n",
    "\n",
    "model = None\n",
    "\n",
    "GBC_feature_importances.head(10)"
   ]
  },
  {
   "cell_type": "markdown",
   "metadata": {},
   "source": [
    "There they are, each classifier giving its top choice of features.\n",
    "\n",
    "- We can see that `RFC` and `ETC` show similar results, yes there are features which show-up different ranks but not of a great difference. Each feature show a little similar numbers.\n",
    "\n",
    "- `GBC` also happens to show similar results but little different that those `RFC` and `ETC` classifier's results.\n",
    "\n",
    "- `ADBC`, show a unique and very interesting results. The top `8` features are alone enough to predict classes and highest taken by `Wilderness Area4` followed by `Elevation` which is being followed in other classifiers!! This is interesting because `Wilderness Area4` isn't even present in the top `10` except of `RFC` which had showed about `4.47%` importance which is very different than `ADBC`'s result score of `46%`\n",
    "\n",
    "- `Elevation` do take on similar dominance in predicting class. It is present in top `10` of all classifiers. `ETC`, `RFC` and `GBC` show it as the most important feature. `ADBC` shows it as the second most important feature.\n",
    "\n",
    "- `Hillshade` features are seen on top 10 list of every classifier except for `ADB`. `ETC` and `RFC` show all `Hillshade` features having similar dominance while `GBC` shows a percent less.\n",
    "\n",
    "- In above visualization section of [Correlation] in the EDA notebook, we saw that `Hillshade` features had nice correlation with each other also other features like `SLope`, `Aspect`, `Horizontal and Vertical Distance to Hydrology` showed high correlations values. They also show dominance here in predicting, meaning they might had correlated but they have very useful information in predicting target variable.\n",
    "\n",
    "- `Elevation`, `Vertical and Horizontal distance to Hydrology` show presence in top 10 for all classifiers, hence important features.\n",
    "\n",
    "- All these classification tell us one thing in common, Numerical Features dominate when it comes to predicting forest classes.\n",
    "\n",
    "- All that being said, I will now go with features that show up in the top in most classifiers. Top `15-20` would be a reasonable choice."
   ]
  },
  {
   "cell_type": "markdown",
   "metadata": {},
   "source": [
    "**Comparing at the top 24 feature scores evaluated by `Random Forest` and `Extra Tree Classifier` side by side**"
   ]
  },
  {
   "cell_type": "code",
   "execution_count": 15,
   "metadata": {},
   "outputs": [
    {
     "name": "stdout",
     "output_type": "stream",
     "text": [
      "                                         RFC       ETC\n",
      "Elevation                           0.223542  0.166172\n",
      "Horizontal_Distance_To_Roadways     0.094263  0.081416\n",
      "Horizontal_Distance_To_Fire_Points  0.074507  0.067628\n",
      "Horizontal_Distance_To_Hydrology    0.061820  0.058656\n",
      "Vertical_Distance_To_Hydrology      0.053246  0.049678\n",
      "Hillshade_9am                       0.050765  0.048314\n",
      "Aspect                              0.047537  0.049159\n",
      "Wilderness_Area4                    0.042976  0.052043\n",
      "Hillshade_3pm                       0.045444  0.045403\n",
      "Hillshade_Noon                      0.044717  0.045079\n",
      "Slope                               0.036404  0.041639\n",
      "Soil_Type10                         0.026358  0.034067\n",
      "Soil_Type38                         0.021231  0.026985\n",
      "Soil_Type39                         0.018348  0.023963\n",
      "Soil_Type3                          0.018547  0.021386\n",
      "Wilderness_Area3                    0.018334  0.021166\n",
      "Wilderness_Area1                    0.017784  0.020716\n",
      "Soil_Type4                          0.012074  0.014933\n",
      "Soil_Type40                         0.011481  0.015314\n",
      "Soil_Type30                         0.009031  0.011516\n"
     ]
    }
   ],
   "source": [
    "# Select the top 20 features from each model\n",
    "top24_RFC = RFC_feature_importances.head(20)\n",
    "top24_ETC = ETC_feature_importances.head(20)\n",
    "\n",
    "# Merge the top 20 features from both models for side-by-side comparison\n",
    "# Use 'outer' join to ensure all unique features from both models are included\n",
    "comparison_df = pd.merge(top24_RFC, top24_ETC, left_index=True, right_index=True, how='outer')\n",
    "\n",
    "# Fill NaN values with 0, assuming that a missing value indicates the feature wasn't among the top 24 for that model\n",
    "comparison_df.fillna(0, inplace=True)\n",
    "\n",
    "# Sort by the sum of both models' scores to see the most important features across both models\n",
    "comparison_df['Total_Importance'] = comparison_df.sum(axis=1)\n",
    "comparison_df_sorted = comparison_df.sort_values(by='Total_Importance', ascending=False).drop('Total_Importance', axis=1)\n",
    "\n",
    "# Display the comparison of the top 20 features\n",
    "print(comparison_df_sorted.head(20))\n"
   ]
  },
  {
   "cell_type": "code",
   "execution_count": 16,
   "metadata": {},
   "outputs": [],
   "source": [
    "top_20_feature_names = [\n",
    "    \"Elevation\",\n",
    "    \"Horizontal_Distance_To_Roadways\",\n",
    "    \"Horizontal_Distance_To_Fire_Points\",\n",
    "    \"Horizontal_Distance_To_Hydrology\",\n",
    "    \"Vertical_Distance_To_Hydrology\",\n",
    "    \"Hillshade_9am\",\n",
    "    \"Aspect\",\n",
    "    \"Wilderness_Area4\",\n",
    "    \"Hillshade_3pm\",\n",
    "    \"Hillshade_Noon\",\n",
    "    \"Slope\",\n",
    "    \"Soil_Type10\",\n",
    "    \"Soil_Type38\",\n",
    "    \"Soil_Type39\",\n",
    "    \"Soil_Type3\",\n",
    "    \"Wilderness_Area3\",\n",
    "    \"Wilderness_Area1\",\n",
    "    \"Soil_Type4\",\n",
    "    \"Soil_Type40\",\n",
    "    \"Soil_Type30\"\n",
    "]"
   ]
  },
  {
   "cell_type": "code",
   "execution_count": 19,
   "metadata": {},
   "outputs": [],
   "source": [
    "sample = df[top_20_feature_names + ['Cover_Type']]"
   ]
  },
  {
   "cell_type": "markdown",
   "metadata": {},
   "source": [
    "### Feature Scaling"
   ]
  },
  {
   "cell_type": "markdown",
   "metadata": {},
   "source": [
    "One last step before we move to splitting the data to Train-Test Split is to scale the features to some specific range. We will scale all feature values to specific range of `0 to 1`. but before we do this we will split the feature and target variables because we dont want to scale our target variable."
   ]
  },
  {
   "cell_type": "code",
   "execution_count": 20,
   "metadata": {},
   "outputs": [],
   "source": [
    "from sklearn.preprocessing import MinMaxScaler\n",
    "\n",
    "scaler = MinMaxScaler(feature_range = (0,1))\n",
    "\n",
    "X = sample.iloc[:,:-1]\n",
    "\n",
    "y = sample['Cover_Type']\n",
    "\n",
    "X_scaled = scaler.fit_transform(X)"
   ]
  },
  {
   "cell_type": "code",
   "execution_count": null,
   "metadata": {},
   "outputs": [],
   "source": []
  }
 ],
 "metadata": {
  "kernelspec": {
   "display_name": "base",
   "language": "python",
   "name": "python3"
  },
  "language_info": {
   "codemirror_mode": {
    "name": "ipython",
    "version": 3
   },
   "file_extension": ".py",
   "mimetype": "text/x-python",
   "name": "python",
   "nbconvert_exporter": "python",
   "pygments_lexer": "ipython3",
   "version": "3.11.4"
  }
 },
 "nbformat": 4,
 "nbformat_minor": 2
}
