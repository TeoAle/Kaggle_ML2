{
  "nbformat": 4,
  "nbformat_minor": 0,
  "metadata": {
    "colab": {
      "provenance": [],
      "authorship_tag": "ABX9TyNUxvTEr6X1DgyNMMBhNTBP",
      "include_colab_link": true
    },
    "kernelspec": {
      "name": "python3",
      "display_name": "Python 3"
    },
    "language_info": {
      "name": "python"
    },
    "widgets": {
      "application/vnd.jupyter.widget-state+json": {
        "c42e7979bd1748f896dd9b0a8ac69ee9": {
          "model_module": "@jupyter-widgets/controls",
          "model_name": "VBoxModel",
          "model_module_version": "1.5.0",
          "state": {
            "_dom_classes": [],
            "_model_module": "@jupyter-widgets/controls",
            "_model_module_version": "1.5.0",
            "_model_name": "VBoxModel",
            "_view_count": null,
            "_view_module": "@jupyter-widgets/controls",
            "_view_module_version": "1.5.0",
            "_view_name": "VBoxView",
            "box_style": "",
            "children": [
              "IPY_MODEL_1fe310601e2d4075a72129cc37f69c98",
              "IPY_MODEL_13e408186a9444ce9f221b7fe46b6047"
            ],
            "layout": "IPY_MODEL_64c47259a93d4c7ebdcf3f2b80e44967"
          }
        },
        "1fe310601e2d4075a72129cc37f69c98": {
          "model_module": "@jupyter-widgets/controls",
          "model_name": "LabelModel",
          "model_module_version": "1.5.0",
          "state": {
            "_dom_classes": [],
            "_model_module": "@jupyter-widgets/controls",
            "_model_module_version": "1.5.0",
            "_model_name": "LabelModel",
            "_view_count": null,
            "_view_module": "@jupyter-widgets/controls",
            "_view_module_version": "1.5.0",
            "_view_name": "LabelView",
            "description": "",
            "description_tooltip": null,
            "layout": "IPY_MODEL_a24ee18e3335425e8a389969e9df5864",
            "placeholder": "​",
            "style": "IPY_MODEL_69b94d5cb13e44d88499173d3d87dd12",
            "value": "0.011 MB of 0.011 MB uploaded\r"
          }
        },
        "13e408186a9444ce9f221b7fe46b6047": {
          "model_module": "@jupyter-widgets/controls",
          "model_name": "FloatProgressModel",
          "model_module_version": "1.5.0",
          "state": {
            "_dom_classes": [],
            "_model_module": "@jupyter-widgets/controls",
            "_model_module_version": "1.5.0",
            "_model_name": "FloatProgressModel",
            "_view_count": null,
            "_view_module": "@jupyter-widgets/controls",
            "_view_module_version": "1.5.0",
            "_view_name": "ProgressView",
            "bar_style": "",
            "description": "",
            "description_tooltip": null,
            "layout": "IPY_MODEL_e7a912c2f7864afdb3f891aad0c43707",
            "max": 1,
            "min": 0,
            "orientation": "horizontal",
            "style": "IPY_MODEL_eb390cc87b0d41dda1339a57a9dfa08a",
            "value": 1
          }
        },
        "64c47259a93d4c7ebdcf3f2b80e44967": {
          "model_module": "@jupyter-widgets/base",
          "model_name": "LayoutModel",
          "model_module_version": "1.2.0",
          "state": {
            "_model_module": "@jupyter-widgets/base",
            "_model_module_version": "1.2.0",
            "_model_name": "LayoutModel",
            "_view_count": null,
            "_view_module": "@jupyter-widgets/base",
            "_view_module_version": "1.2.0",
            "_view_name": "LayoutView",
            "align_content": null,
            "align_items": null,
            "align_self": null,
            "border": null,
            "bottom": null,
            "display": null,
            "flex": null,
            "flex_flow": null,
            "grid_area": null,
            "grid_auto_columns": null,
            "grid_auto_flow": null,
            "grid_auto_rows": null,
            "grid_column": null,
            "grid_gap": null,
            "grid_row": null,
            "grid_template_areas": null,
            "grid_template_columns": null,
            "grid_template_rows": null,
            "height": null,
            "justify_content": null,
            "justify_items": null,
            "left": null,
            "margin": null,
            "max_height": null,
            "max_width": null,
            "min_height": null,
            "min_width": null,
            "object_fit": null,
            "object_position": null,
            "order": null,
            "overflow": null,
            "overflow_x": null,
            "overflow_y": null,
            "padding": null,
            "right": null,
            "top": null,
            "visibility": null,
            "width": null
          }
        },
        "a24ee18e3335425e8a389969e9df5864": {
          "model_module": "@jupyter-widgets/base",
          "model_name": "LayoutModel",
          "model_module_version": "1.2.0",
          "state": {
            "_model_module": "@jupyter-widgets/base",
            "_model_module_version": "1.2.0",
            "_model_name": "LayoutModel",
            "_view_count": null,
            "_view_module": "@jupyter-widgets/base",
            "_view_module_version": "1.2.0",
            "_view_name": "LayoutView",
            "align_content": null,
            "align_items": null,
            "align_self": null,
            "border": null,
            "bottom": null,
            "display": null,
            "flex": null,
            "flex_flow": null,
            "grid_area": null,
            "grid_auto_columns": null,
            "grid_auto_flow": null,
            "grid_auto_rows": null,
            "grid_column": null,
            "grid_gap": null,
            "grid_row": null,
            "grid_template_areas": null,
            "grid_template_columns": null,
            "grid_template_rows": null,
            "height": null,
            "justify_content": null,
            "justify_items": null,
            "left": null,
            "margin": null,
            "max_height": null,
            "max_width": null,
            "min_height": null,
            "min_width": null,
            "object_fit": null,
            "object_position": null,
            "order": null,
            "overflow": null,
            "overflow_x": null,
            "overflow_y": null,
            "padding": null,
            "right": null,
            "top": null,
            "visibility": null,
            "width": null
          }
        },
        "69b94d5cb13e44d88499173d3d87dd12": {
          "model_module": "@jupyter-widgets/controls",
          "model_name": "DescriptionStyleModel",
          "model_module_version": "1.5.0",
          "state": {
            "_model_module": "@jupyter-widgets/controls",
            "_model_module_version": "1.5.0",
            "_model_name": "DescriptionStyleModel",
            "_view_count": null,
            "_view_module": "@jupyter-widgets/base",
            "_view_module_version": "1.2.0",
            "_view_name": "StyleView",
            "description_width": ""
          }
        },
        "e7a912c2f7864afdb3f891aad0c43707": {
          "model_module": "@jupyter-widgets/base",
          "model_name": "LayoutModel",
          "model_module_version": "1.2.0",
          "state": {
            "_model_module": "@jupyter-widgets/base",
            "_model_module_version": "1.2.0",
            "_model_name": "LayoutModel",
            "_view_count": null,
            "_view_module": "@jupyter-widgets/base",
            "_view_module_version": "1.2.0",
            "_view_name": "LayoutView",
            "align_content": null,
            "align_items": null,
            "align_self": null,
            "border": null,
            "bottom": null,
            "display": null,
            "flex": null,
            "flex_flow": null,
            "grid_area": null,
            "grid_auto_columns": null,
            "grid_auto_flow": null,
            "grid_auto_rows": null,
            "grid_column": null,
            "grid_gap": null,
            "grid_row": null,
            "grid_template_areas": null,
            "grid_template_columns": null,
            "grid_template_rows": null,
            "height": null,
            "justify_content": null,
            "justify_items": null,
            "left": null,
            "margin": null,
            "max_height": null,
            "max_width": null,
            "min_height": null,
            "min_width": null,
            "object_fit": null,
            "object_position": null,
            "order": null,
            "overflow": null,
            "overflow_x": null,
            "overflow_y": null,
            "padding": null,
            "right": null,
            "top": null,
            "visibility": null,
            "width": null
          }
        },
        "eb390cc87b0d41dda1339a57a9dfa08a": {
          "model_module": "@jupyter-widgets/controls",
          "model_name": "ProgressStyleModel",
          "model_module_version": "1.5.0",
          "state": {
            "_model_module": "@jupyter-widgets/controls",
            "_model_module_version": "1.5.0",
            "_model_name": "ProgressStyleModel",
            "_view_count": null,
            "_view_module": "@jupyter-widgets/base",
            "_view_module_version": "1.2.0",
            "_view_name": "StyleView",
            "bar_color": null,
            "description_width": ""
          }
        },
        "40ec833e67994326b475f0e71a733d0d": {
          "model_module": "@jupyter-widgets/controls",
          "model_name": "VBoxModel",
          "model_module_version": "1.5.0",
          "state": {
            "_dom_classes": [],
            "_model_module": "@jupyter-widgets/controls",
            "_model_module_version": "1.5.0",
            "_model_name": "VBoxModel",
            "_view_count": null,
            "_view_module": "@jupyter-widgets/controls",
            "_view_module_version": "1.5.0",
            "_view_name": "VBoxView",
            "box_style": "",
            "children": [
              "IPY_MODEL_1a4093eba15f47248cc19075c5fea15b",
              "IPY_MODEL_4ab044413896413499fac01229f2f2ed"
            ],
            "layout": "IPY_MODEL_803da1b61a054ad5bcabd7fcba0607b2"
          }
        },
        "1a4093eba15f47248cc19075c5fea15b": {
          "model_module": "@jupyter-widgets/controls",
          "model_name": "LabelModel",
          "model_module_version": "1.5.0",
          "state": {
            "_dom_classes": [],
            "_model_module": "@jupyter-widgets/controls",
            "_model_module_version": "1.5.0",
            "_model_name": "LabelModel",
            "_view_count": null,
            "_view_module": "@jupyter-widgets/controls",
            "_view_module_version": "1.5.0",
            "_view_name": "LabelView",
            "description": "",
            "description_tooltip": null,
            "layout": "IPY_MODEL_4008be75d34a4447bdfe984a35df2dcd",
            "placeholder": "​",
            "style": "IPY_MODEL_60c8930a77f149b5acc1bffc2a5259ee",
            "value": "0.011 MB of 0.011 MB uploaded\r"
          }
        },
        "4ab044413896413499fac01229f2f2ed": {
          "model_module": "@jupyter-widgets/controls",
          "model_name": "FloatProgressModel",
          "model_module_version": "1.5.0",
          "state": {
            "_dom_classes": [],
            "_model_module": "@jupyter-widgets/controls",
            "_model_module_version": "1.5.0",
            "_model_name": "FloatProgressModel",
            "_view_count": null,
            "_view_module": "@jupyter-widgets/controls",
            "_view_module_version": "1.5.0",
            "_view_name": "ProgressView",
            "bar_style": "",
            "description": "",
            "description_tooltip": null,
            "layout": "IPY_MODEL_e37aa732be4a4feaaaf85c45c1013a4e",
            "max": 1,
            "min": 0,
            "orientation": "horizontal",
            "style": "IPY_MODEL_3e2eaced4e3947deb8dda8a42acc4646",
            "value": 1
          }
        },
        "803da1b61a054ad5bcabd7fcba0607b2": {
          "model_module": "@jupyter-widgets/base",
          "model_name": "LayoutModel",
          "model_module_version": "1.2.0",
          "state": {
            "_model_module": "@jupyter-widgets/base",
            "_model_module_version": "1.2.0",
            "_model_name": "LayoutModel",
            "_view_count": null,
            "_view_module": "@jupyter-widgets/base",
            "_view_module_version": "1.2.0",
            "_view_name": "LayoutView",
            "align_content": null,
            "align_items": null,
            "align_self": null,
            "border": null,
            "bottom": null,
            "display": null,
            "flex": null,
            "flex_flow": null,
            "grid_area": null,
            "grid_auto_columns": null,
            "grid_auto_flow": null,
            "grid_auto_rows": null,
            "grid_column": null,
            "grid_gap": null,
            "grid_row": null,
            "grid_template_areas": null,
            "grid_template_columns": null,
            "grid_template_rows": null,
            "height": null,
            "justify_content": null,
            "justify_items": null,
            "left": null,
            "margin": null,
            "max_height": null,
            "max_width": null,
            "min_height": null,
            "min_width": null,
            "object_fit": null,
            "object_position": null,
            "order": null,
            "overflow": null,
            "overflow_x": null,
            "overflow_y": null,
            "padding": null,
            "right": null,
            "top": null,
            "visibility": null,
            "width": null
          }
        },
        "4008be75d34a4447bdfe984a35df2dcd": {
          "model_module": "@jupyter-widgets/base",
          "model_name": "LayoutModel",
          "model_module_version": "1.2.0",
          "state": {
            "_model_module": "@jupyter-widgets/base",
            "_model_module_version": "1.2.0",
            "_model_name": "LayoutModel",
            "_view_count": null,
            "_view_module": "@jupyter-widgets/base",
            "_view_module_version": "1.2.0",
            "_view_name": "LayoutView",
            "align_content": null,
            "align_items": null,
            "align_self": null,
            "border": null,
            "bottom": null,
            "display": null,
            "flex": null,
            "flex_flow": null,
            "grid_area": null,
            "grid_auto_columns": null,
            "grid_auto_flow": null,
            "grid_auto_rows": null,
            "grid_column": null,
            "grid_gap": null,
            "grid_row": null,
            "grid_template_areas": null,
            "grid_template_columns": null,
            "grid_template_rows": null,
            "height": null,
            "justify_content": null,
            "justify_items": null,
            "left": null,
            "margin": null,
            "max_height": null,
            "max_width": null,
            "min_height": null,
            "min_width": null,
            "object_fit": null,
            "object_position": null,
            "order": null,
            "overflow": null,
            "overflow_x": null,
            "overflow_y": null,
            "padding": null,
            "right": null,
            "top": null,
            "visibility": null,
            "width": null
          }
        },
        "60c8930a77f149b5acc1bffc2a5259ee": {
          "model_module": "@jupyter-widgets/controls",
          "model_name": "DescriptionStyleModel",
          "model_module_version": "1.5.0",
          "state": {
            "_model_module": "@jupyter-widgets/controls",
            "_model_module_version": "1.5.0",
            "_model_name": "DescriptionStyleModel",
            "_view_count": null,
            "_view_module": "@jupyter-widgets/base",
            "_view_module_version": "1.2.0",
            "_view_name": "StyleView",
            "description_width": ""
          }
        },
        "e37aa732be4a4feaaaf85c45c1013a4e": {
          "model_module": "@jupyter-widgets/base",
          "model_name": "LayoutModel",
          "model_module_version": "1.2.0",
          "state": {
            "_model_module": "@jupyter-widgets/base",
            "_model_module_version": "1.2.0",
            "_model_name": "LayoutModel",
            "_view_count": null,
            "_view_module": "@jupyter-widgets/base",
            "_view_module_version": "1.2.0",
            "_view_name": "LayoutView",
            "align_content": null,
            "align_items": null,
            "align_self": null,
            "border": null,
            "bottom": null,
            "display": null,
            "flex": null,
            "flex_flow": null,
            "grid_area": null,
            "grid_auto_columns": null,
            "grid_auto_flow": null,
            "grid_auto_rows": null,
            "grid_column": null,
            "grid_gap": null,
            "grid_row": null,
            "grid_template_areas": null,
            "grid_template_columns": null,
            "grid_template_rows": null,
            "height": null,
            "justify_content": null,
            "justify_items": null,
            "left": null,
            "margin": null,
            "max_height": null,
            "max_width": null,
            "min_height": null,
            "min_width": null,
            "object_fit": null,
            "object_position": null,
            "order": null,
            "overflow": null,
            "overflow_x": null,
            "overflow_y": null,
            "padding": null,
            "right": null,
            "top": null,
            "visibility": null,
            "width": null
          }
        },
        "3e2eaced4e3947deb8dda8a42acc4646": {
          "model_module": "@jupyter-widgets/controls",
          "model_name": "ProgressStyleModel",
          "model_module_version": "1.5.0",
          "state": {
            "_model_module": "@jupyter-widgets/controls",
            "_model_module_version": "1.5.0",
            "_model_name": "ProgressStyleModel",
            "_view_count": null,
            "_view_module": "@jupyter-widgets/base",
            "_view_module_version": "1.2.0",
            "_view_name": "StyleView",
            "bar_color": null,
            "description_width": ""
          }
        },
        "69448417ad1a4eb087d4bb9b6d86c8be": {
          "model_module": "@jupyter-widgets/controls",
          "model_name": "VBoxModel",
          "model_module_version": "1.5.0",
          "state": {
            "_dom_classes": [],
            "_model_module": "@jupyter-widgets/controls",
            "_model_module_version": "1.5.0",
            "_model_name": "VBoxModel",
            "_view_count": null,
            "_view_module": "@jupyter-widgets/controls",
            "_view_module_version": "1.5.0",
            "_view_name": "VBoxView",
            "box_style": "",
            "children": [
              "IPY_MODEL_56c65eb4dd26414caf2b225925c3ff49",
              "IPY_MODEL_22af4f5e66bc4cc9a3502199d496f89c"
            ],
            "layout": "IPY_MODEL_8eb88a87dde64ff99df8b9a222d730dc"
          }
        },
        "56c65eb4dd26414caf2b225925c3ff49": {
          "model_module": "@jupyter-widgets/controls",
          "model_name": "LabelModel",
          "model_module_version": "1.5.0",
          "state": {
            "_dom_classes": [],
            "_model_module": "@jupyter-widgets/controls",
            "_model_module_version": "1.5.0",
            "_model_name": "LabelModel",
            "_view_count": null,
            "_view_module": "@jupyter-widgets/controls",
            "_view_module_version": "1.5.0",
            "_view_name": "LabelView",
            "description": "",
            "description_tooltip": null,
            "layout": "IPY_MODEL_a25dcc1122c748d79db53765fbd74e2c",
            "placeholder": "​",
            "style": "IPY_MODEL_18c00425664f4fd18dad029d075536bf",
            "value": "0.011 MB of 0.011 MB uploaded\r"
          }
        },
        "22af4f5e66bc4cc9a3502199d496f89c": {
          "model_module": "@jupyter-widgets/controls",
          "model_name": "FloatProgressModel",
          "model_module_version": "1.5.0",
          "state": {
            "_dom_classes": [],
            "_model_module": "@jupyter-widgets/controls",
            "_model_module_version": "1.5.0",
            "_model_name": "FloatProgressModel",
            "_view_count": null,
            "_view_module": "@jupyter-widgets/controls",
            "_view_module_version": "1.5.0",
            "_view_name": "ProgressView",
            "bar_style": "",
            "description": "",
            "description_tooltip": null,
            "layout": "IPY_MODEL_75853d189ab642aa821ba73b8e3bcc18",
            "max": 1,
            "min": 0,
            "orientation": "horizontal",
            "style": "IPY_MODEL_4510574a97c54386ab8f43713bc9c45d",
            "value": 1
          }
        },
        "8eb88a87dde64ff99df8b9a222d730dc": {
          "model_module": "@jupyter-widgets/base",
          "model_name": "LayoutModel",
          "model_module_version": "1.2.0",
          "state": {
            "_model_module": "@jupyter-widgets/base",
            "_model_module_version": "1.2.0",
            "_model_name": "LayoutModel",
            "_view_count": null,
            "_view_module": "@jupyter-widgets/base",
            "_view_module_version": "1.2.0",
            "_view_name": "LayoutView",
            "align_content": null,
            "align_items": null,
            "align_self": null,
            "border": null,
            "bottom": null,
            "display": null,
            "flex": null,
            "flex_flow": null,
            "grid_area": null,
            "grid_auto_columns": null,
            "grid_auto_flow": null,
            "grid_auto_rows": null,
            "grid_column": null,
            "grid_gap": null,
            "grid_row": null,
            "grid_template_areas": null,
            "grid_template_columns": null,
            "grid_template_rows": null,
            "height": null,
            "justify_content": null,
            "justify_items": null,
            "left": null,
            "margin": null,
            "max_height": null,
            "max_width": null,
            "min_height": null,
            "min_width": null,
            "object_fit": null,
            "object_position": null,
            "order": null,
            "overflow": null,
            "overflow_x": null,
            "overflow_y": null,
            "padding": null,
            "right": null,
            "top": null,
            "visibility": null,
            "width": null
          }
        },
        "a25dcc1122c748d79db53765fbd74e2c": {
          "model_module": "@jupyter-widgets/base",
          "model_name": "LayoutModel",
          "model_module_version": "1.2.0",
          "state": {
            "_model_module": "@jupyter-widgets/base",
            "_model_module_version": "1.2.0",
            "_model_name": "LayoutModel",
            "_view_count": null,
            "_view_module": "@jupyter-widgets/base",
            "_view_module_version": "1.2.0",
            "_view_name": "LayoutView",
            "align_content": null,
            "align_items": null,
            "align_self": null,
            "border": null,
            "bottom": null,
            "display": null,
            "flex": null,
            "flex_flow": null,
            "grid_area": null,
            "grid_auto_columns": null,
            "grid_auto_flow": null,
            "grid_auto_rows": null,
            "grid_column": null,
            "grid_gap": null,
            "grid_row": null,
            "grid_template_areas": null,
            "grid_template_columns": null,
            "grid_template_rows": null,
            "height": null,
            "justify_content": null,
            "justify_items": null,
            "left": null,
            "margin": null,
            "max_height": null,
            "max_width": null,
            "min_height": null,
            "min_width": null,
            "object_fit": null,
            "object_position": null,
            "order": null,
            "overflow": null,
            "overflow_x": null,
            "overflow_y": null,
            "padding": null,
            "right": null,
            "top": null,
            "visibility": null,
            "width": null
          }
        },
        "18c00425664f4fd18dad029d075536bf": {
          "model_module": "@jupyter-widgets/controls",
          "model_name": "DescriptionStyleModel",
          "model_module_version": "1.5.0",
          "state": {
            "_model_module": "@jupyter-widgets/controls",
            "_model_module_version": "1.5.0",
            "_model_name": "DescriptionStyleModel",
            "_view_count": null,
            "_view_module": "@jupyter-widgets/base",
            "_view_module_version": "1.2.0",
            "_view_name": "StyleView",
            "description_width": ""
          }
        },
        "75853d189ab642aa821ba73b8e3bcc18": {
          "model_module": "@jupyter-widgets/base",
          "model_name": "LayoutModel",
          "model_module_version": "1.2.0",
          "state": {
            "_model_module": "@jupyter-widgets/base",
            "_model_module_version": "1.2.0",
            "_model_name": "LayoutModel",
            "_view_count": null,
            "_view_module": "@jupyter-widgets/base",
            "_view_module_version": "1.2.0",
            "_view_name": "LayoutView",
            "align_content": null,
            "align_items": null,
            "align_self": null,
            "border": null,
            "bottom": null,
            "display": null,
            "flex": null,
            "flex_flow": null,
            "grid_area": null,
            "grid_auto_columns": null,
            "grid_auto_flow": null,
            "grid_auto_rows": null,
            "grid_column": null,
            "grid_gap": null,
            "grid_row": null,
            "grid_template_areas": null,
            "grid_template_columns": null,
            "grid_template_rows": null,
            "height": null,
            "justify_content": null,
            "justify_items": null,
            "left": null,
            "margin": null,
            "max_height": null,
            "max_width": null,
            "min_height": null,
            "min_width": null,
            "object_fit": null,
            "object_position": null,
            "order": null,
            "overflow": null,
            "overflow_x": null,
            "overflow_y": null,
            "padding": null,
            "right": null,
            "top": null,
            "visibility": null,
            "width": null
          }
        },
        "4510574a97c54386ab8f43713bc9c45d": {
          "model_module": "@jupyter-widgets/controls",
          "model_name": "ProgressStyleModel",
          "model_module_version": "1.5.0",
          "state": {
            "_model_module": "@jupyter-widgets/controls",
            "_model_module_version": "1.5.0",
            "_model_name": "ProgressStyleModel",
            "_view_count": null,
            "_view_module": "@jupyter-widgets/base",
            "_view_module_version": "1.2.0",
            "_view_name": "StyleView",
            "bar_color": null,
            "description_width": ""
          }
        }
      }
    }
  },
  "cells": [
    {
      "cell_type": "markdown",
      "metadata": {
        "id": "view-in-github",
        "colab_type": "text"
      },
      "source": [
        "<a href=\"https://colab.research.google.com/github/TeoAle/Kaggle_ML2/blob/master/notebooks/ml2_torch.ipynb\" target=\"_parent\"><img src=\"https://colab.research.google.com/assets/colab-badge.svg\" alt=\"Open In Colab\"/></a>"
      ]
    },
    {
      "cell_type": "code",
      "execution_count": 1,
      "metadata": {
        "id": "WGH9ihFYkqfb"
      },
      "outputs": [],
      "source": [
        "import pandas as pd\n",
        "import numpy as np\n",
        "import os\n",
        "import sys\n",
        "from dataloader import load_train_df\n",
        "import torch\n",
        "from torch import nn\n",
        "from torch import optim\n",
        "from torch.utils.data import DataLoader\n",
        "from torch.utils.data import Dataset, Subset\n",
        "\n",
        "%reload_ext autoreload"
      ]
    },
    {
      "cell_type": "code",
      "source": [
        "%pip install wandb --quiet"
      ],
      "metadata": {
        "id": "M3gYZhaR2_L4"
      },
      "execution_count": 2,
      "outputs": []
    },
    {
      "cell_type": "code",
      "source": [
        "PATH = 'data'\n",
        "df = load_train_df(\n",
        "    PATH=PATH,\n",
        "    decode_dummies=True,\n",
        "    add_geo_features=True\n",
        ")"
      ],
      "metadata": {
        "id": "C0o-Qt85nKS4"
      },
      "execution_count": 3,
      "outputs": []
    },
    {
      "cell_type": "code",
      "source": [
        "y = df['Cover_Type'].values\n",
        "X = df.drop(['Cover_Type'], axis=1)"
      ],
      "metadata": {
        "id": "_5xBPiPSpMqN"
      },
      "execution_count": 4,
      "outputs": []
    },
    {
      "cell_type": "code",
      "source": [
        "from sklearn.model_selection import train_test_split\n",
        "X_train, X_val, y_train, y_val = train_test_split(X, y, test_size=0.2, random_state=42)"
      ],
      "metadata": {
        "id": "GIZ5ojS_o_U3"
      },
      "execution_count": 5,
      "outputs": []
    },
    {
      "cell_type": "code",
      "source": [
        "from sklearn.preprocessing import StandardScaler, OneHotEncoder\n",
        "from sklearn.pipeline import Pipeline\n",
        "from sklearn.compose import ColumnTransformer\n",
        "\n",
        "cols_numeric = X.select_dtypes(include=['float']).columns\n",
        "\n",
        "preprocessor = ColumnTransformer(\n",
        "    transformers=[\n",
        "        ('num', StandardScaler(), cols_numeric)]\n",
        ")\n",
        "\n",
        "target_encoder = OneHotEncoder(sparse_output=False)\n"
      ],
      "metadata": {
        "id": "EQU2qOFtnecK"
      },
      "execution_count": 6,
      "outputs": []
    },
    {
      "cell_type": "code",
      "source": [
        "X_train_array = preprocessor.fit_transform(X_train)\n",
        "X_val_array = preprocessor.transform(X_val)"
      ],
      "metadata": {
        "id": "i9cWNrG3sHvN"
      },
      "execution_count": 7,
      "outputs": []
    },
    {
      "cell_type": "code",
      "source": [
        "y_train_array = target_encoder.fit_transform(y_train.reshape(-1, 1))\n",
        "y_val_array = target_encoder.transform(y_val.reshape(-1, 1))"
      ],
      "metadata": {
        "id": "Ux3g7E44tn76"
      },
      "execution_count": 8,
      "outputs": []
    },
    {
      "cell_type": "markdown",
      "source": [
        "## Helper Functions"
      ],
      "metadata": {
        "id": "Ej4_GTBiu7Ti"
      }
    },
    {
      "cell_type": "code",
      "source": [
        "#@title Dynamic Architecture Model\n",
        "m = X_train_array.shape[1]\n",
        "k = y_train_array.shape[1]\n",
        "\n",
        "class DNN(nn.Module):\n",
        "  \"\"\"\n",
        "  MLP with tunable number of layers and nodes. Declare sizes as a list with the following structure: [dim_in, dim_in_hl1, ..., dim_out].\n",
        "  Default dropout rate is 0.5, dropout happens after each activation (ReLU).\n",
        "  \"\"\"\n",
        "  def __init__(self, dropout=0.5, sizes=[m,k]):\n",
        "    super().__init__()\n",
        "    n = len(sizes)\n",
        "\n",
        "    stack = nn.ModuleList()\n",
        "    drop = nn.Dropout(dropout)\n",
        "    act = nn.ReLU()\n",
        "\n",
        "    self.dropout = drop\n",
        "    self.n_layers = n\n",
        "    self.activation = act\n",
        "\n",
        "    for i in range(n-1):\n",
        "      d_in = sizes[i]\n",
        "      d_out = sizes[i+1]\n",
        "\n",
        "      linear_layer = nn.Linear(d_in, d_out)\n",
        "\n",
        "      stack.append(linear_layer)\n",
        "      if i != n-2:\n",
        "        stack.append(act)\n",
        "        stack.append(drop)\n",
        "\n",
        "    self.stack = stack\n",
        "\n",
        "\n",
        "  def forward(self, x):\n",
        "    m = nn.Softmax(dim=0)\n",
        "\n",
        "    for layer in self.stack:\n",
        "      x = layer(x)\n",
        "\n",
        "    x = m(x)\n",
        "\n",
        "    return x"
      ],
      "metadata": {
        "cellView": "form",
        "id": "GkHf6Biau3Ni"
      },
      "execution_count": 9,
      "outputs": []
    },
    {
      "cell_type": "code",
      "source": [
        "#@title Device selection\n",
        "# default pytorch device selection snippet (credits https://pytorch.org/tutorials/beginner/basics/quickstart_tutorial.html)\n",
        "device = (\n",
        "    \"cuda\"\n",
        "    if torch.cuda.is_available()\n",
        "    else \"mps\"\n",
        "    if torch.backends.mps.is_available()\n",
        "    else \"cpu\"\n",
        ")\n",
        "\n",
        "print(f\"Using {device} device\")"
      ],
      "metadata": {
        "cellView": "form",
        "colab": {
          "base_uri": "https://localhost:8080/"
        },
        "id": "_hqtjja8r1La",
        "outputId": "a7c80ef2-088a-4397-90c3-aaa0b4d7bdca"
      },
      "execution_count": 10,
      "outputs": [
        {
          "output_type": "stream",
          "name": "stdout",
          "text": [
            "Using cpu device\n"
          ]
        }
      ]
    },
    {
      "cell_type": "code",
      "source": [
        "#@title dataset class\n",
        "\n",
        "class MyDataset(Dataset):\n",
        "\n",
        "  def __init__(self,x,y):\n",
        "    self.x=x\n",
        "    self.y=y\n",
        "    self.l = x.shape[0]\n",
        "\n",
        "  def __len__(self):\n",
        "    return self.l\n",
        "\n",
        "  def __getitem__(self,idx):\n",
        "    return self.x[idx], self.y[idx]"
      ],
      "metadata": {
        "cellView": "form",
        "id": "N_emTBRRryII"
      },
      "execution_count": 11,
      "outputs": []
    },
    {
      "cell_type": "code",
      "source": [
        "#@title get dataloaders\n",
        "def get_dataloaders(train_feats, test_feats, train_labels, test_labels, batch_size=1, shuffle=True, device=device):\n",
        "\n",
        "  train_dataset = MyDataset(torch.from_numpy(train_feats).float().to(device), torch.tensor(train_labels).float().to(device))\n",
        "  test_dataset = MyDataset(torch.from_numpy(test_feats).float().to(device), torch.tensor(test_labels).float().to(device))\n",
        "\n",
        "  train_dataloader = DataLoader(train_dataset, batch_size=batch_size, shuffle=shuffle)\n",
        "  test_dataloader = DataLoader(test_dataset, batch_size=batch_size, shuffle=shuffle)\n",
        "\n",
        "  return train_dataloader, test_dataloader"
      ],
      "metadata": {
        "cellView": "form",
        "id": "lMzjvfHErwwX"
      },
      "execution_count": 12,
      "outputs": []
    },
    {
      "cell_type": "code",
      "source": [
        "#@title train/test loop\n",
        "def train_loop(dataloader, model, loss_fn, optimizer):\n",
        "    size = len(dataloader.dataset)\n",
        "    num_batches = len(dataloader)\n",
        "    train_loss, train_acc = 0, 0\n",
        "\n",
        "\n",
        "    for batch, (X, y) in enumerate(dataloader):\n",
        "\n",
        "        optimizer.zero_grad()\n",
        "\n",
        "        # Compute prediction and loss\n",
        "        pred = model(X)\n",
        "        loss = loss_fn(pred, y)\n",
        "\n",
        "        # Backpropagation\n",
        "\n",
        "        loss.backward()\n",
        "        optimizer.step()\n",
        "\n",
        "        train_loss += loss\n",
        "        train_acc += (pred.argmax(1) == y.argmax(1)).type(torch.float).sum().item()\n",
        "\n",
        "    train_loss /= num_batches\n",
        "    train_acc /= size\n",
        "\n",
        "    return train_loss, train_acc\n",
        "\n",
        "def test_loop(dataloader, model, loss_fn, verbose=False):\n",
        "    size = len(dataloader.dataset)\n",
        "    num_batches = len(dataloader)\n",
        "    test_loss, test_acc = 0, 0\n",
        "\n",
        "    with torch.no_grad():\n",
        "        for X, y in dataloader:\n",
        "            pred = model(X)\n",
        "            test_loss += loss_fn(pred, y).item()\n",
        "            test_acc += (pred.argmax(1) == y.argmax(1)).type(torch.float).sum().item()\n",
        "\n",
        "\n",
        "    test_loss /= num_batches\n",
        "    test_acc /= size\n",
        "\n",
        "    if verbose:\n",
        "      sys.stdout.write('\\r' + f\"Validation accuracy: {(100*test_acc):>0.1f}%, Avg loss: {test_loss:>8f} \\n\")\n",
        "\n",
        "    return test_loss, test_acc"
      ],
      "metadata": {
        "cellView": "form",
        "id": "dUhGKrjLv2_q"
      },
      "execution_count": 13,
      "outputs": []
    },
    {
      "cell_type": "code",
      "source": [
        "#@title run setup\n",
        "def run_setup(train_feats, test_feats, train_labels, test_labels, bs=2, shuffle=True, lr=1e-2, dropout=0.2, sizes=[m,k], device=device):\n",
        "  model = DNN(dropout=dropout, sizes=sizes).to(device)\n",
        "  optimizer = optim.SGD(model.parameters(), lr=lr)\n",
        "  # optimizer = optim.Adam(model.parameters(), lr=lr)\n",
        "  train_dl, test_dl = get_dataloaders(train_feats,\n",
        "                                      test_feats,\n",
        "                                      train_labels,\n",
        "                                      test_labels,\n",
        "                                      batch_size=bs,\n",
        "                                      shuffle=True,\n",
        "                                      device=device)\n",
        "\n",
        "  return model, optimizer, train_dl, test_dl"
      ],
      "metadata": {
        "id": "VWoh7pCF1CcR"
      },
      "execution_count": 14,
      "outputs": []
    },
    {
      "cell_type": "markdown",
      "source": [
        "## Prepare run"
      ],
      "metadata": {
        "id": "-WXqF0HAveMw"
      }
    },
    {
      "cell_type": "code",
      "source": [
        "import wandb\n",
        "# api-key: 4ca4dc012e66db4ce63df479d47564975c346ca3"
      ],
      "metadata": {
        "id": "waJ7qaUHzdps"
      },
      "execution_count": 15,
      "outputs": []
    },
    {
      "cell_type": "code",
      "source": [
        "#@title Configure Sweep\n",
        "proj_name = \"ml2-challenge\"\n",
        "sweep_name = \"first-sweep\" #@param [\"\"]{allow-input:true}\n",
        "\n",
        "sweep_configuration = {\n",
        "\n",
        "    'method': 'random',\n",
        "\n",
        "    'name': sweep_name,\n",
        "\n",
        "    'metric': {\n",
        "        'goal': 'maximize',\n",
        "        'name': 'test_acc'\n",
        "        },\n",
        "\n",
        "    'parameters':\n",
        "     {\n",
        "        'batch_size': {\n",
        "            'values': [4, 8, 16]\n",
        "            },\n",
        "\n",
        "        'lr': {\n",
        "            'max': 0.1,\n",
        "            'min': 1e-3\n",
        "            },\n",
        "\n",
        "        'dropout': {\n",
        "            'values': [0.25, 0.5]\n",
        "            },\n",
        "\n",
        "        'epochs': {\n",
        "            'values': [10]\n",
        "            },\n",
        "\n",
        "        'sizes': {\n",
        "            'values': [\n",
        "                [m, 128, 128, 64, k]\n",
        "                ]\n",
        "            }\n",
        "        },\n",
        "    'early_terminate' : {\n",
        "            'type' : 'hyperband',\n",
        "            's' : 3,\n",
        "            'eta' : 2,\n",
        "            'max_iter' : 10\n",
        "            }\n",
        "    }\n"
      ],
      "metadata": {
        "cellView": "form",
        "id": "ryNQO9vS1yYI"
      },
      "execution_count": 16,
      "outputs": []
    },
    {
      "cell_type": "code",
      "source": [
        "sweep_id = wandb.sweep(sweep=sweep_configuration, project=proj_name)\n",
        "# api-key: 4ca4dc012e66db4ce63df479d47564975c346ca3"
      ],
      "metadata": {
        "colab": {
          "base_uri": "https://localhost:8080/"
        },
        "id": "EwMVAO_F1_ze",
        "outputId": "a0c19a86-9e66-448c-9779-007b6475c22b"
      },
      "execution_count": 17,
      "outputs": [
        {
          "output_type": "stream",
          "name": "stdout",
          "text": [
            "Create sweep with ID: kb0vkc4h\n",
            "Sweep URL: https://wandb.ai/torch-carlo/ml2-challenge/sweeps/kb0vkc4h\n"
          ]
        }
      ]
    },
    {
      "cell_type": "code",
      "source": [
        "#@title  main loop\n",
        "def main():\n",
        "\n",
        "    run = wandb.init()\n",
        "\n",
        "\n",
        "    lr  =  wandb.config.lr\n",
        "    bs = wandb.config.batch_size\n",
        "    drop = wandb.config.dropout\n",
        "    epochs = wandb.config.epochs\n",
        "    sizes = wandb.config.sizes\n",
        "\n",
        "    model, op, train_dl, test_dl = run_setup(X_train_array,\n",
        "                                           X_val_array,\n",
        "                                           y_train_array,\n",
        "                                           y_val_array,\n",
        "                                           lr=lr,\n",
        "                                           bs=bs,\n",
        "                                           shuffle=True,\n",
        "                                           dropout=drop,\n",
        "                                           sizes=sizes,\n",
        "                                           device=device\n",
        "                                           )\n",
        "\n",
        "    model = model.to(device)\n",
        "\n",
        "    loss_fn = nn.CrossEntropyLoss()\n",
        "\n",
        "    for epoch in range(1, epochs):\n",
        "\n",
        "      train_loss, train_acc = train_loop(train_dl, model, loss_fn, op)\n",
        "      test_loss, test_acc = test_loop(test_dl, model, loss_fn)\n",
        "\n",
        "      wandb.log({\n",
        "        'epoch': epoch,\n",
        "        'train_loss': train_loss,\n",
        "        'test_acc': test_acc,\n",
        "        'test_loss': test_loss\n",
        "      }, step=epoch)"
      ],
      "metadata": {
        "cellView": "form",
        "id": "22p-N8FH06Sy"
      },
      "execution_count": 18,
      "outputs": []
    },
    {
      "cell_type": "code",
      "source": [
        "#@title # Start run\n",
        "n_iterations = 3 #@param\n",
        "wandb.agent(sweep_id, function=main, count=n_iterations)"
      ],
      "metadata": {
        "colab": {
          "base_uri": "https://localhost:8080/",
          "height": 1000,
          "referenced_widgets": [
            "c42e7979bd1748f896dd9b0a8ac69ee9",
            "1fe310601e2d4075a72129cc37f69c98",
            "13e408186a9444ce9f221b7fe46b6047",
            "64c47259a93d4c7ebdcf3f2b80e44967",
            "a24ee18e3335425e8a389969e9df5864",
            "69b94d5cb13e44d88499173d3d87dd12",
            "e7a912c2f7864afdb3f891aad0c43707",
            "eb390cc87b0d41dda1339a57a9dfa08a",
            "40ec833e67994326b475f0e71a733d0d",
            "1a4093eba15f47248cc19075c5fea15b",
            "4ab044413896413499fac01229f2f2ed",
            "803da1b61a054ad5bcabd7fcba0607b2",
            "4008be75d34a4447bdfe984a35df2dcd",
            "60c8930a77f149b5acc1bffc2a5259ee",
            "e37aa732be4a4feaaaf85c45c1013a4e",
            "3e2eaced4e3947deb8dda8a42acc4646",
            "69448417ad1a4eb087d4bb9b6d86c8be",
            "56c65eb4dd26414caf2b225925c3ff49",
            "22af4f5e66bc4cc9a3502199d496f89c",
            "8eb88a87dde64ff99df8b9a222d730dc",
            "a25dcc1122c748d79db53765fbd74e2c",
            "18c00425664f4fd18dad029d075536bf",
            "75853d189ab642aa821ba73b8e3bcc18",
            "4510574a97c54386ab8f43713bc9c45d"
          ]
        },
        "cellView": "form",
        "id": "y1YAIOGP1fJR",
        "outputId": "4de7bca1-bd9a-4f39-b490-d5dcbde5b381"
      },
      "execution_count": 19,
      "outputs": [
        {
          "output_type": "stream",
          "name": "stderr",
          "text": [
            "\u001b[34m\u001b[1mwandb\u001b[0m: Agent Starting Run: a8qe7lms with config:\n",
            "\u001b[34m\u001b[1mwandb\u001b[0m: \tbatch_size: 2\n",
            "\u001b[34m\u001b[1mwandb\u001b[0m: \tdropout: 0.5\n",
            "\u001b[34m\u001b[1mwandb\u001b[0m: \tepochs: 10\n",
            "\u001b[34m\u001b[1mwandb\u001b[0m: \tlr: 0.05274841544680981\n",
            "\u001b[34m\u001b[1mwandb\u001b[0m: \tsizes: [10, 128, 128, 64, 7]\n",
            "\u001b[34m\u001b[1mwandb\u001b[0m: Currently logged in as: \u001b[33mcarlopatti1\u001b[0m (\u001b[33mtorch-carlo\u001b[0m). Use \u001b[1m`wandb login --relogin`\u001b[0m to force relogin\n"
          ]
        },
        {
          "output_type": "display_data",
          "data": {
            "text/plain": [
              "<IPython.core.display.HTML object>"
            ],
            "text/html": [
              "Tracking run with wandb version 0.16.3"
            ]
          },
          "metadata": {}
        },
        {
          "output_type": "display_data",
          "data": {
            "text/plain": [
              "<IPython.core.display.HTML object>"
            ],
            "text/html": [
              "Run data is saved locally in <code>/content/wandb/run-20240208_225509-a8qe7lms</code>"
            ]
          },
          "metadata": {}
        },
        {
          "output_type": "display_data",
          "data": {
            "text/plain": [
              "<IPython.core.display.HTML object>"
            ],
            "text/html": [
              "Syncing run <strong><a href='https://wandb.ai/torch-carlo/ml2-challenge/runs/a8qe7lms' target=\"_blank\">glamorous-sweep-1</a></strong> to <a href='https://wandb.ai/torch-carlo/ml2-challenge' target=\"_blank\">Weights & Biases</a> (<a href='https://wandb.me/run' target=\"_blank\">docs</a>)<br/>Sweep page: <a href='https://wandb.ai/torch-carlo/ml2-challenge/sweeps/kb0vkc4h' target=\"_blank\">https://wandb.ai/torch-carlo/ml2-challenge/sweeps/kb0vkc4h</a>"
            ]
          },
          "metadata": {}
        },
        {
          "output_type": "display_data",
          "data": {
            "text/plain": [
              "<IPython.core.display.HTML object>"
            ],
            "text/html": [
              " View project at <a href='https://wandb.ai/torch-carlo/ml2-challenge' target=\"_blank\">https://wandb.ai/torch-carlo/ml2-challenge</a>"
            ]
          },
          "metadata": {}
        },
        {
          "output_type": "display_data",
          "data": {
            "text/plain": [
              "<IPython.core.display.HTML object>"
            ],
            "text/html": [
              " View sweep at <a href='https://wandb.ai/torch-carlo/ml2-challenge/sweeps/kb0vkc4h' target=\"_blank\">https://wandb.ai/torch-carlo/ml2-challenge/sweeps/kb0vkc4h</a>"
            ]
          },
          "metadata": {}
        },
        {
          "output_type": "display_data",
          "data": {
            "text/plain": [
              "<IPython.core.display.HTML object>"
            ],
            "text/html": [
              " View run at <a href='https://wandb.ai/torch-carlo/ml2-challenge/runs/a8qe7lms' target=\"_blank\">https://wandb.ai/torch-carlo/ml2-challenge/runs/a8qe7lms</a>"
            ]
          },
          "metadata": {}
        },
        {
          "output_type": "display_data",
          "data": {
            "text/plain": [
              "VBox(children=(Label(value='0.001 MB of 0.011 MB uploaded\\r'), FloatProgress(value=0.09642597968069666, max=1.…"
            ],
            "application/vnd.jupyter.widget-view+json": {
              "version_major": 2,
              "version_minor": 0,
              "model_id": "c42e7979bd1748f896dd9b0a8ac69ee9"
            }
          },
          "metadata": {}
        },
        {
          "output_type": "display_data",
          "data": {
            "text/plain": [
              "<IPython.core.display.HTML object>"
            ],
            "text/html": [
              "<style>\n",
              "    table.wandb td:nth-child(1) { padding: 0 10px; text-align: left ; width: auto;} td:nth-child(2) {text-align: left ; width: 100%}\n",
              "    .wandb-row { display: flex; flex-direction: row; flex-wrap: wrap; justify-content: flex-start; width: 100% }\n",
              "    .wandb-col { display: flex; flex-direction: column; flex-basis: 100%; flex: 1; padding: 10px; }\n",
              "    </style>\n",
              "<div class=\"wandb-row\"><div class=\"wandb-col\"><h3>Run history:</h3><br/><table class=\"wandb\"><tr><td>epoch</td><td>▁▂▃▄▅▅▆▇█</td></tr><tr><td>test_acc</td><td>▆▆▅▄▃▁▅█▆</td></tr><tr><td>test_loss</td><td>█▆▅▆▆▄▆▅▁</td></tr><tr><td>train_loss</td><td>█▃▂▂▁▁▁▂▂</td></tr></table><br/></div><div class=\"wandb-col\"><h3>Run summary:</h3><br/><table class=\"wandb\"><tr><td>epoch</td><td>9</td></tr><tr><td>test_acc</td><td>0.34491</td></tr><tr><td>test_loss</td><td>1.70791</td></tr><tr><td>train_loss</td><td>1.72165</td></tr></table><br/></div></div>"
            ]
          },
          "metadata": {}
        },
        {
          "output_type": "display_data",
          "data": {
            "text/plain": [
              "<IPython.core.display.HTML object>"
            ],
            "text/html": [
              " View run <strong style=\"color:#cdcd00\">glamorous-sweep-1</strong> at: <a href='https://wandb.ai/torch-carlo/ml2-challenge/runs/a8qe7lms' target=\"_blank\">https://wandb.ai/torch-carlo/ml2-challenge/runs/a8qe7lms</a><br/>Synced 4 W&B file(s), 0 media file(s), 0 artifact file(s) and 0 other file(s)"
            ]
          },
          "metadata": {}
        },
        {
          "output_type": "display_data",
          "data": {
            "text/plain": [
              "<IPython.core.display.HTML object>"
            ],
            "text/html": [
              "Find logs at: <code>./wandb/run-20240208_225509-a8qe7lms/logs</code>"
            ]
          },
          "metadata": {}
        },
        {
          "output_type": "stream",
          "name": "stderr",
          "text": [
            "\u001b[34m\u001b[1mwandb\u001b[0m: Agent Starting Run: 5kprjd4p with config:\n",
            "\u001b[34m\u001b[1mwandb\u001b[0m: \tbatch_size: 8\n",
            "\u001b[34m\u001b[1mwandb\u001b[0m: \tdropout: 0.5\n",
            "\u001b[34m\u001b[1mwandb\u001b[0m: \tepochs: 10\n",
            "\u001b[34m\u001b[1mwandb\u001b[0m: \tlr: 0.0028193188679699107\n",
            "\u001b[34m\u001b[1mwandb\u001b[0m: \tsizes: [10, 128, 128, 64, 7]\n"
          ]
        },
        {
          "output_type": "display_data",
          "data": {
            "text/plain": [
              "<IPython.core.display.HTML object>"
            ],
            "text/html": [
              "Tracking run with wandb version 0.16.3"
            ]
          },
          "metadata": {}
        },
        {
          "output_type": "display_data",
          "data": {
            "text/plain": [
              "<IPython.core.display.HTML object>"
            ],
            "text/html": [
              "Run data is saved locally in <code>/content/wandb/run-20240208_225718-5kprjd4p</code>"
            ]
          },
          "metadata": {}
        },
        {
          "output_type": "display_data",
          "data": {
            "text/plain": [
              "<IPython.core.display.HTML object>"
            ],
            "text/html": [
              "Syncing run <strong><a href='https://wandb.ai/torch-carlo/ml2-challenge/runs/5kprjd4p' target=\"_blank\">scarlet-sweep-2</a></strong> to <a href='https://wandb.ai/torch-carlo/ml2-challenge' target=\"_blank\">Weights & Biases</a> (<a href='https://wandb.me/run' target=\"_blank\">docs</a>)<br/>Sweep page: <a href='https://wandb.ai/torch-carlo/ml2-challenge/sweeps/kb0vkc4h' target=\"_blank\">https://wandb.ai/torch-carlo/ml2-challenge/sweeps/kb0vkc4h</a>"
            ]
          },
          "metadata": {}
        },
        {
          "output_type": "display_data",
          "data": {
            "text/plain": [
              "<IPython.core.display.HTML object>"
            ],
            "text/html": [
              " View project at <a href='https://wandb.ai/torch-carlo/ml2-challenge' target=\"_blank\">https://wandb.ai/torch-carlo/ml2-challenge</a>"
            ]
          },
          "metadata": {}
        },
        {
          "output_type": "display_data",
          "data": {
            "text/plain": [
              "<IPython.core.display.HTML object>"
            ],
            "text/html": [
              " View sweep at <a href='https://wandb.ai/torch-carlo/ml2-challenge/sweeps/kb0vkc4h' target=\"_blank\">https://wandb.ai/torch-carlo/ml2-challenge/sweeps/kb0vkc4h</a>"
            ]
          },
          "metadata": {}
        },
        {
          "output_type": "display_data",
          "data": {
            "text/plain": [
              "<IPython.core.display.HTML object>"
            ],
            "text/html": [
              " View run at <a href='https://wandb.ai/torch-carlo/ml2-challenge/runs/5kprjd4p' target=\"_blank\">https://wandb.ai/torch-carlo/ml2-challenge/runs/5kprjd4p</a>"
            ]
          },
          "metadata": {}
        },
        {
          "output_type": "display_data",
          "data": {
            "text/plain": [
              "VBox(children=(Label(value='0.011 MB of 0.011 MB uploaded\\r'), FloatProgress(value=1.0, max=1.0)))"
            ],
            "application/vnd.jupyter.widget-view+json": {
              "version_major": 2,
              "version_minor": 0,
              "model_id": "40ec833e67994326b475f0e71a733d0d"
            }
          },
          "metadata": {}
        },
        {
          "output_type": "display_data",
          "data": {
            "text/plain": [
              "<IPython.core.display.HTML object>"
            ],
            "text/html": [
              "<style>\n",
              "    table.wandb td:nth-child(1) { padding: 0 10px; text-align: left ; width: auto;} td:nth-child(2) {text-align: left ; width: 100%}\n",
              "    .wandb-row { display: flex; flex-direction: row; flex-wrap: wrap; justify-content: flex-start; width: 100% }\n",
              "    .wandb-col { display: flex; flex-direction: column; flex-basis: 100%; flex: 1; padding: 10px; }\n",
              "    </style>\n",
              "<div class=\"wandb-row\"><div class=\"wandb-col\"><h3>Run history:</h3><br/><table class=\"wandb\"><tr><td>epoch</td><td>▁▂▃▄▅▅▆▇█</td></tr><tr><td>test_acc</td><td>▁▁▁▃▄▆▆▆█</td></tr><tr><td>test_loss</td><td>██▇▇▆▆▅▄▁</td></tr><tr><td>train_loss</td><td>██▇▇▆▅▄▃▁</td></tr></table><br/></div><div class=\"wandb-col\"><h3>Run summary:</h3><br/><table class=\"wandb\"><tr><td>epoch</td><td>9</td></tr><tr><td>test_acc</td><td>0.22983</td></tr><tr><td>test_loss</td><td>1.93629</td></tr><tr><td>train_loss</td><td>1.93832</td></tr></table><br/></div></div>"
            ]
          },
          "metadata": {}
        },
        {
          "output_type": "display_data",
          "data": {
            "text/plain": [
              "<IPython.core.display.HTML object>"
            ],
            "text/html": [
              " View run <strong style=\"color:#cdcd00\">scarlet-sweep-2</strong> at: <a href='https://wandb.ai/torch-carlo/ml2-challenge/runs/5kprjd4p' target=\"_blank\">https://wandb.ai/torch-carlo/ml2-challenge/runs/5kprjd4p</a><br/>Synced 4 W&B file(s), 0 media file(s), 0 artifact file(s) and 0 other file(s)"
            ]
          },
          "metadata": {}
        },
        {
          "output_type": "display_data",
          "data": {
            "text/plain": [
              "<IPython.core.display.HTML object>"
            ],
            "text/html": [
              "Find logs at: <code>./wandb/run-20240208_225718-5kprjd4p/logs</code>"
            ]
          },
          "metadata": {}
        },
        {
          "output_type": "stream",
          "name": "stderr",
          "text": [
            "\u001b[34m\u001b[1mwandb\u001b[0m: Agent Starting Run: paib953c with config:\n",
            "\u001b[34m\u001b[1mwandb\u001b[0m: \tbatch_size: 8\n",
            "\u001b[34m\u001b[1mwandb\u001b[0m: \tdropout: 0.25\n",
            "\u001b[34m\u001b[1mwandb\u001b[0m: \tepochs: 10\n",
            "\u001b[34m\u001b[1mwandb\u001b[0m: \tlr: 0.04963525443622027\n",
            "\u001b[34m\u001b[1mwandb\u001b[0m: \tsizes: [10, 128, 128, 64, 7]\n"
          ]
        },
        {
          "output_type": "display_data",
          "data": {
            "text/plain": [
              "<IPython.core.display.HTML object>"
            ],
            "text/html": [
              "Tracking run with wandb version 0.16.3"
            ]
          },
          "metadata": {}
        },
        {
          "output_type": "display_data",
          "data": {
            "text/plain": [
              "<IPython.core.display.HTML object>"
            ],
            "text/html": [
              "Run data is saved locally in <code>/content/wandb/run-20240208_225754-paib953c</code>"
            ]
          },
          "metadata": {}
        },
        {
          "output_type": "display_data",
          "data": {
            "text/plain": [
              "<IPython.core.display.HTML object>"
            ],
            "text/html": [
              "Syncing run <strong><a href='https://wandb.ai/torch-carlo/ml2-challenge/runs/paib953c' target=\"_blank\">vivid-sweep-3</a></strong> to <a href='https://wandb.ai/torch-carlo/ml2-challenge' target=\"_blank\">Weights & Biases</a> (<a href='https://wandb.me/run' target=\"_blank\">docs</a>)<br/>Sweep page: <a href='https://wandb.ai/torch-carlo/ml2-challenge/sweeps/kb0vkc4h' target=\"_blank\">https://wandb.ai/torch-carlo/ml2-challenge/sweeps/kb0vkc4h</a>"
            ]
          },
          "metadata": {}
        },
        {
          "output_type": "display_data",
          "data": {
            "text/plain": [
              "<IPython.core.display.HTML object>"
            ],
            "text/html": [
              " View project at <a href='https://wandb.ai/torch-carlo/ml2-challenge' target=\"_blank\">https://wandb.ai/torch-carlo/ml2-challenge</a>"
            ]
          },
          "metadata": {}
        },
        {
          "output_type": "display_data",
          "data": {
            "text/plain": [
              "<IPython.core.display.HTML object>"
            ],
            "text/html": [
              " View sweep at <a href='https://wandb.ai/torch-carlo/ml2-challenge/sweeps/kb0vkc4h' target=\"_blank\">https://wandb.ai/torch-carlo/ml2-challenge/sweeps/kb0vkc4h</a>"
            ]
          },
          "metadata": {}
        },
        {
          "output_type": "display_data",
          "data": {
            "text/plain": [
              "<IPython.core.display.HTML object>"
            ],
            "text/html": [
              " View run at <a href='https://wandb.ai/torch-carlo/ml2-challenge/runs/paib953c' target=\"_blank\">https://wandb.ai/torch-carlo/ml2-challenge/runs/paib953c</a>"
            ]
          },
          "metadata": {}
        },
        {
          "output_type": "display_data",
          "data": {
            "text/plain": [
              "VBox(children=(Label(value='0.011 MB of 0.011 MB uploaded\\r'), FloatProgress(value=1.0, max=1.0)))"
            ],
            "application/vnd.jupyter.widget-view+json": {
              "version_major": 2,
              "version_minor": 0,
              "model_id": "69448417ad1a4eb087d4bb9b6d86c8be"
            }
          },
          "metadata": {}
        },
        {
          "output_type": "display_data",
          "data": {
            "text/plain": [
              "<IPython.core.display.HTML object>"
            ],
            "text/html": [
              "<style>\n",
              "    table.wandb td:nth-child(1) { padding: 0 10px; text-align: left ; width: auto;} td:nth-child(2) {text-align: left ; width: 100%}\n",
              "    .wandb-row { display: flex; flex-direction: row; flex-wrap: wrap; justify-content: flex-start; width: 100% }\n",
              "    .wandb-col { display: flex; flex-direction: column; flex-basis: 100%; flex: 1; padding: 10px; }\n",
              "    </style>\n",
              "<div class=\"wandb-row\"><div class=\"wandb-col\"><h3>Run history:</h3><br/><table class=\"wandb\"><tr><td>epoch</td><td>▁▂▃▄▅▅▆▇█</td></tr><tr><td>test_acc</td><td>▁▅▆▇▇▇▇██</td></tr><tr><td>test_loss</td><td>█▄▃▂▂▂▂▁▁</td></tr><tr><td>train_loss</td><td>█▄▃▂▂▁▁▁▁</td></tr></table><br/></div><div class=\"wandb-col\"><h3>Run summary:</h3><br/><table class=\"wandb\"><tr><td>epoch</td><td>9</td></tr><tr><td>test_acc</td><td>0.5205</td></tr><tr><td>test_loss</td><td>1.67375</td></tr><tr><td>train_loss</td><td>1.67531</td></tr></table><br/></div></div>"
            ]
          },
          "metadata": {}
        },
        {
          "output_type": "display_data",
          "data": {
            "text/plain": [
              "<IPython.core.display.HTML object>"
            ],
            "text/html": [
              " View run <strong style=\"color:#cdcd00\">vivid-sweep-3</strong> at: <a href='https://wandb.ai/torch-carlo/ml2-challenge/runs/paib953c' target=\"_blank\">https://wandb.ai/torch-carlo/ml2-challenge/runs/paib953c</a><br/>Synced 4 W&B file(s), 0 media file(s), 0 artifact file(s) and 0 other file(s)"
            ]
          },
          "metadata": {}
        },
        {
          "output_type": "display_data",
          "data": {
            "text/plain": [
              "<IPython.core.display.HTML object>"
            ],
            "text/html": [
              "Find logs at: <code>./wandb/run-20240208_225754-paib953c/logs</code>"
            ]
          },
          "metadata": {}
        }
      ]
    }
  ]
}