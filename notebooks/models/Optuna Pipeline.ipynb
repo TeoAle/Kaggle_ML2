{
 "cells": [
  {
   "cell_type": "markdown",
   "metadata": {},
   "source": [
    "# Optuna Pieline for model selection"
   ]
  },
  {
   "cell_type": "markdown",
   "metadata": {},
   "source": [
    "## Kaggle ML2\n",
    "## Matteo A. D'Alessandro, Carlo A. Patti"
   ]
  },
  {
   "cell_type": "code",
   "execution_count": 1,
   "metadata": {},
   "outputs": [],
   "source": [
    "import optuna\n",
    "import numpy as np\n",
    "import pandas as pd\n",
    "\n",
    "from sklearn.metrics import accuracy_score\n",
    "from sklearn.model_selection import StratifiedKFold\n",
    "from sklearn.ensemble import RandomForestClassifier, AdaBoostClassifier, GradientBoostingClassifier, ExtraTreesClassifier\n",
    "from sklearn.linear_model import LogisticRegression\n",
    "from sklearn.preprocessing import StandardScaler\n",
    "from sklearn.pipeline import make_pipeline\n",
    "import xgboost as xgb"
   ]
  },
  {
   "cell_type": "code",
   "execution_count": null,
   "metadata": {},
   "outputs": [],
   "source": [
    "X = pd.read_csv('path_to_your_X_train.csv')\n",
    "y = pd.read_csv('path_to_your_y_train.csv').values.ravel()"
   ]
  },
  {
   "cell_type": "code",
   "execution_count": 2,
   "metadata": {},
   "outputs": [],
   "source": [
    "MODEL_NAME2MODEL = {\n",
    "    \"RandomForestClassifier\": RandomForestClassifier,\n",
    "    \"LogisticRegression\": LogisticRegression,\n",
    "    \"AdaBoostClassifier\": AdaBoostClassifier,\n",
    "    \"GradientBoostingClassifier\": GradientBoostingClassifier,\n",
    "    \"ExtraTreesClassifier\": ExtraTreesClassifier,\n",
    "    \"XGBoostClassifier\": xgb.XGBClassifier\n",
    "}"
   ]
  },
  {
   "cell_type": "code",
   "execution_count": 3,
   "metadata": {},
   "outputs": [],
   "source": [
    "def evaluate_model(model, trial):\n",
    "    skf = StratifiedKFold(n_splits=5)\n",
    "    scores = []\n",
    "\n",
    "    for train_index, test_index in skf.split(X, y):\n",
    "        X_train, X_test = X.iloc[train_index], X.iloc[test_index]\n",
    "        y_train, y_test = y[train_index], y[test_index]\n",
    "\n",
    "        model.fit(X_train, y_train)\n",
    "        preds = model.predict(X_test)\n",
    "        score = accuracy_score(y_test, preds)\n",
    "        scores.append(score)\n",
    "\n",
    "    return np.mean(scores)"
   ]
  },
  {
   "cell_type": "code",
   "execution_count": 4,
   "metadata": {},
   "outputs": [],
   "source": [
    "def objective(trial):\n",
    "    model_name = trial.suggest_categorical(\"Model\", list(MODEL_NAME2MODEL.keys()))\n",
    "    ModelClass = MODEL_NAME2MODEL[model_name]\n",
    "\n",
    "    if model_name == \"RandomForestClassifier\":\n",
    "        model_params = {\n",
    "            \"n_estimators\": trial.suggest_int(\"n_estimators\", 10, 200),\n",
    "            \"max_depth\": trial.suggest_int(\"max_depth\", 2, 32),\n",
    "            \"min_samples_split\": trial.suggest_int(\"min_samples_split\", 2, 20),\n",
    "            \"min_samples_leaf\": trial.suggest_int(\"min_samples_leaf\", 1, 20),\n",
    "        }\n",
    "    elif model_name == \"LogisticRegression\":\n",
    "        model_params = {\n",
    "            \"C\": trial.suggest_float(\"C\", 1e-4, 1e4, log=True),\n",
    "            \"solver\": trial.suggest_categorical(\"solver\", [\"newton-cg\", \"lbfgs\", \"liblinear\"]),\n",
    "        }\n",
    "        model = make_pipeline(StandardScaler(), ModelClass(**model_params))\n",
    "        return evaluate_model(model, trial)\n",
    "    \n",
    "    elif model_name == \"AdaBoostClassifier\":\n",
    "        model_params = {\n",
    "            \"n_estimators\": trial.suggest_int(\"n_estimators\", 50, 200),\n",
    "            \"learning_rate\": trial.suggest_float(\"learning_rate\", 0.01, 1.0)\n",
    "        }\n",
    "    elif model_name == \"GradientBoostingClassifier\":\n",
    "        model_params = {\n",
    "            \"n_estimators\": trial.suggest_int(\"n_estimators\", 50, 200),\n",
    "            \"learning_rate\": trial.suggest_float(\"learning_rate\", 0.01, 1.0),\n",
    "            \"max_depth\": trial.suggest_int(\"max_depth\", 3, 32),\n",
    "        }\n",
    "    elif model_name == \"ExtraTreesClassifier\":\n",
    "        model_params = {\n",
    "            \"n_estimators\": trial.suggest_int(\"n_estimators\", 100, 300),\n",
    "            \"max_depth\": trial.suggest_int(\"max_depth\", 2, 32),\n",
    "            \"min_samples_split\": trial.suggest_int(\"min_samples_split\", 2, 20),\n",
    "            \"min_samples_leaf\": trial.suggest_int(\"min_samples_leaf\", 1, 20),\n",
    "        }\n",
    "    elif model_name == \"XGBoostClassifier\":\n",
    "        model_params = {\n",
    "            \"n_estimators\": trial.suggest_int(\"n_estimators\", 50, 200),\n",
    "            \"max_depth\": trial.suggest_int(\"max_depth\", 3, 10),\n",
    "            \"learning_rate\": trial.suggest_float(\"learning_rate\", 0.01, 1.0),\n",
    "            \"subsample\": trial.suggest_float(\"subsample\", 0.5, 1.0),\n",
    "            \"colsample_bytree\": trial.suggest_float(\"colsample_bytree\", 0.5, 1.0),\n",
    "        }\n",
    "    else:\n",
    "        model_params = {}\n",
    "\n",
    "    model = ModelClass(**model_params)\n",
    "    return evaluate_model(model, trial)"
   ]
  },
  {
   "cell_type": "code",
   "execution_count": null,
   "metadata": {},
   "outputs": [],
   "source": [
    "study = optuna.create_study(direction='maximize')\n",
    "study.optimize(objective, n_trials=50)\n",
    "\n",
    "best_params = study.best_params\n",
    "best_model_name = best_params[\"Model\"]\n",
    "print(f\"Best model: {best_model_name}\")\n",
    "print(\"Best parameters:\", best_params)"
   ]
  }
 ],
 "metadata": {
  "kernelspec": {
   "display_name": "base",
   "language": "python",
   "name": "python3"
  },
  "language_info": {
   "codemirror_mode": {
    "name": "ipython",
    "version": 3
   },
   "file_extension": ".py",
   "mimetype": "text/x-python",
   "name": "python",
   "nbconvert_exporter": "python",
   "pygments_lexer": "ipython3",
   "version": "3.11.4"
  }
 },
 "nbformat": 4,
 "nbformat_minor": 2
}
