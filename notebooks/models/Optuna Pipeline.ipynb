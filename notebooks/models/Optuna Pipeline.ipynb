{
 "cells": [
  {
   "cell_type": "markdown",
   "metadata": {},
   "source": [
    "# Optuna Pieline for model selection"
   ]
  },
  {
   "cell_type": "markdown",
   "metadata": {},
   "source": [
    "## Kaggle ML2\n",
    "## Matteo A. D'Alessandro, Carlo A. Patti"
   ]
  },
  {
   "cell_type": "code",
   "execution_count": 1,
   "metadata": {},
   "outputs": [],
   "source": [
    "import optuna\n",
    "import numpy as np\n",
    "import pandas as pd\n",
    "\n",
    "from sklearn.metrics import accuracy_score\n",
    "from sklearn.model_selection import StratifiedKFold\n",
    "from sklearn.ensemble import RandomForestClassifier, AdaBoostClassifier, GradientBoostingClassifier, ExtraTreesClassifier\n",
    "from sklearn.linear_model import LogisticRegression\n",
    "from sklearn.preprocessing import StandardScaler\n",
    "from sklearn.pipeline import make_pipeline\n",
    "import xgboost as xgb"
   ]
  },
  {
   "cell_type": "code",
   "execution_count": 2,
   "metadata": {},
   "outputs": [],
   "source": [
    "df = pd.read_csv('../../data/train_new_features.csv')\n",
    "target = 'Cover_Type'\n",
    "y = df[target]\n",
    "X = df.drop(target, axis=1)"
   ]
  },
  {
   "cell_type": "code",
   "execution_count": 3,
   "metadata": {},
   "outputs": [],
   "source": [
    "MODEL_NAME2MODEL = {\n",
    "    \"RandomForestClassifier\": RandomForestClassifier,\n",
    "    \"LogisticRegression\": LogisticRegression,\n",
    "    \"AdaBoostClassifier\": AdaBoostClassifier,\n",
    "    \"GradientBoostingClassifier\": GradientBoostingClassifier,\n",
    "    \"ExtraTreesClassifier\": ExtraTreesClassifier\n",
    "}"
   ]
  },
  {
   "cell_type": "code",
   "execution_count": 4,
   "metadata": {},
   "outputs": [],
   "source": [
    "def evaluate_model(model, trial):\n",
    "    skf = StratifiedKFold(n_splits=5)\n",
    "    scores = []\n",
    "\n",
    "    for train_index, test_index in skf.split(X, y):\n",
    "        X_train, X_test = X.iloc[train_index], X.iloc[test_index]\n",
    "        y_train, y_test = y[train_index], y[test_index]\n",
    "\n",
    "        model.fit(X_train, y_train)\n",
    "        preds = model.predict(X_test)\n",
    "        score = accuracy_score(y_test, preds)\n",
    "        scores.append(score)\n",
    "\n",
    "    return np.mean(scores)"
   ]
  },
  {
   "cell_type": "code",
   "execution_count": 5,
   "metadata": {},
   "outputs": [],
   "source": [
    "def objective(trial):\n",
    "    model_name = trial.suggest_categorical(\"Model\", list(MODEL_NAME2MODEL.keys()))\n",
    "    ModelClass = MODEL_NAME2MODEL[model_name]\n",
    "\n",
    "    if model_name == \"RandomForestClassifier\":\n",
    "        model_params = {\n",
    "            \"n_estimators\": trial.suggest_int(\"n_estimators\", 10, 200),\n",
    "            \"max_depth\": trial.suggest_int(\"max_depth\", 2, 32),\n",
    "            \"min_samples_split\": trial.suggest_int(\"min_samples_split\", 2, 20),\n",
    "            \"min_samples_leaf\": trial.suggest_int(\"min_samples_leaf\", 1, 20),\n",
    "        }\n",
    "    elif model_name == \"LogisticRegression\":\n",
    "        model_params = {\n",
    "            \"C\": trial.suggest_float(\"C\", 1e-4, 1e4, log=True),\n",
    "            \"solver\": trial.suggest_categorical(\"solver\", [\"newton-cg\", \"lbfgs\", \"liblinear\"]),\n",
    "        }\n",
    "        model = make_pipeline(StandardScaler(), ModelClass(**model_params))\n",
    "        return evaluate_model(model, trial)\n",
    "    \n",
    "    elif model_name == \"AdaBoostClassifier\":\n",
    "        model_params = {\n",
    "            \"n_estimators\": trial.suggest_int(\"n_estimators\", 50, 200),\n",
    "            \"learning_rate\": trial.suggest_float(\"learning_rate\", 0.01, 1.0)\n",
    "        }\n",
    "    elif model_name == \"GradientBoostingClassifier\":\n",
    "        model_params = {\n",
    "            \"n_estimators\": trial.suggest_int(\"n_estimators\", 50, 200),\n",
    "            \"learning_rate\": trial.suggest_float(\"learning_rate\", 0.01, 1.0),\n",
    "            \"max_depth\": trial.suggest_int(\"max_depth\", 3, 32),\n",
    "        }\n",
    "    elif model_name == \"ExtraTreesClassifier\":\n",
    "        model_params = {\n",
    "            \"n_estimators\": trial.suggest_int(\"n_estimators\", 100, 300),\n",
    "            \"max_depth\": trial.suggest_int(\"max_depth\", 2, 32),\n",
    "            \"min_samples_split\": trial.suggest_int(\"min_samples_split\", 2, 20),\n",
    "            \"min_samples_leaf\": trial.suggest_int(\"min_samples_leaf\", 1, 20),\n",
    "        }\n",
    "    else:\n",
    "        model_params = {}\n",
    "\n",
    "    model = ModelClass(**model_params)\n",
    "    return evaluate_model(model, trial)"
   ]
  },
  {
   "cell_type": "code",
   "execution_count": 6,
   "metadata": {},
   "outputs": [
    {
     "name": "stderr",
     "output_type": "stream",
     "text": [
      "[I 2024-04-02 19:55:03,455] A new study created in memory with name: no-name-a3c77a79-6ab2-495f-9356-261165d335e4\n",
      "[I 2024-04-02 20:08:57,107] Trial 0 finished with value: 0.827116402116402 and parameters: {'Model': 'GradientBoostingClassifier', 'n_estimators': 178, 'learning_rate': 0.09151353924214442, 'max_depth': 27}. Best is trial 0 with value: 0.827116402116402.\n",
      "[I 2024-04-02 20:12:24,621] Trial 1 finished with value: 0.823015873015873 and parameters: {'Model': 'GradientBoostingClassifier', 'n_estimators': 64, 'learning_rate': 0.2850220523899318, 'max_depth': 30}. Best is trial 0 with value: 0.827116402116402.\n",
      "[I 2024-04-02 20:16:44,683] Trial 2 finished with value: 0.8419973544973545 and parameters: {'Model': 'GradientBoostingClassifier', 'n_estimators': 98, 'learning_rate': 0.040083473707634085, 'max_depth': 7}. Best is trial 2 with value: 0.8419973544973545.\n",
      "[I 2024-04-02 20:17:44,920] Trial 3 finished with value: 0.8097222222222221 and parameters: {'Model': 'GradientBoostingClassifier', 'n_estimators': 147, 'learning_rate': 0.8922091466810739, 'max_depth': 31}. Best is trial 2 with value: 0.8419973544973545.\n",
      "[I 2024-04-02 20:17:53,528] Trial 4 finished with value: 0.40674603174603174 and parameters: {'Model': 'AdaBoostClassifier', 'n_estimators': 108, 'learning_rate': 0.7779583204851398}. Best is trial 2 with value: 0.8419973544973545.\n",
      "[I 2024-04-02 20:17:59,035] Trial 5 finished with value: 0.6671957671957671 and parameters: {'Model': 'LogisticRegression', 'C': 0.2605842669178163, 'solver': 'liblinear'}. Best is trial 2 with value: 0.8419973544973545.\n",
      "[I 2024-04-02 20:22:28,003] Trial 6 finished with value: 0.8261243386243386 and parameters: {'Model': 'GradientBoostingClassifier', 'n_estimators': 94, 'learning_rate': 0.21576324702609254, 'max_depth': 30}. Best is trial 2 with value: 0.8419973544973545.\n",
      "[I 2024-04-02 20:22:37,897] Trial 7 finished with value: 0.7881613756613757 and parameters: {'Model': 'RandomForestClassifier', 'n_estimators': 119, 'max_depth': 17, 'min_samples_split': 16, 'min_samples_leaf': 14}. Best is trial 2 with value: 0.8419973544973545.\n",
      "[I 2024-04-02 20:22:44,419] Trial 8 finished with value: 0.428505291005291 and parameters: {'Model': 'AdaBoostClassifier', 'n_estimators': 81, 'learning_rate': 0.6441037222865718}. Best is trial 2 with value: 0.8419973544973545.\n",
      "[I 2024-04-02 20:22:53,110] Trial 9 finished with value: 0.6716931216931217 and parameters: {'Model': 'LogisticRegression', 'C': 4.862514340564026, 'solver': 'liblinear'}. Best is trial 2 with value: 0.8419973544973545.\n",
      "[I 2024-04-02 20:22:56,195] Trial 10 finished with value: 0.5985449735449736 and parameters: {'Model': 'ExtraTreesClassifier', 'n_estimators': 261, 'max_depth': 3, 'min_samples_split': 2, 'min_samples_leaf': 2}. Best is trial 2 with value: 0.8419973544973545.\n",
      "[I 2024-04-02 20:30:09,460] Trial 11 finished with value: 0.8146825396825397 and parameters: {'Model': 'GradientBoostingClassifier', 'n_estimators': 162, 'learning_rate': 0.012200173072561864, 'max_depth': 7}. Best is trial 2 with value: 0.8419973544973545.\n",
      "[I 2024-04-02 21:08:54,215] Trial 12 finished with value: 0.831547619047619 and parameters: {'Model': 'GradientBoostingClassifier', 'n_estimators': 197, 'learning_rate': 0.014116411782225488, 'max_depth': 19}. Best is trial 2 with value: 0.8419973544973545.\n",
      "[I 2024-04-02 21:08:59,725] Trial 13 finished with value: 0.7168650793650794 and parameters: {'Model': 'ExtraTreesClassifier', 'n_estimators': 236, 'max_depth': 15, 'min_samples_split': 20, 'min_samples_leaf': 20}. Best is trial 2 with value: 0.8419973544973545.\n",
      "[I 2024-04-02 21:09:00,934] Trial 14 finished with value: 0.779695767195767 and parameters: {'Model': 'RandomForestClassifier', 'n_estimators': 15, 'max_depth': 11, 'min_samples_split': 6, 'min_samples_leaf': 3}. Best is trial 2 with value: 0.8419973544973545.\n",
      "[I 2024-04-02 21:13:15,666] Trial 15 finished with value: 0.8360449735449734 and parameters: {'Model': 'GradientBoostingClassifier', 'n_estimators': 139, 'learning_rate': 0.3771547931270081, 'max_depth': 23}. Best is trial 2 with value: 0.8419973544973545.\n",
      "[I 2024-04-02 21:17:12,054] Trial 16 finished with value: 0.8369708994708993 and parameters: {'Model': 'GradientBoostingClassifier', 'n_estimators': 142, 'learning_rate': 0.4334124196908991, 'max_depth': 23}. Best is trial 2 with value: 0.8419973544973545.\n",
      "[I 2024-04-02 21:20:43,501] Trial 17 finished with value: 0.8398809523809524 and parameters: {'Model': 'GradientBoostingClassifier', 'n_estimators': 133, 'learning_rate': 0.48955046223767246, 'max_depth': 23}. Best is trial 2 with value: 0.8419973544973545.\n",
      "[I 2024-04-02 21:20:44,723] Trial 18 finished with value: 0.5876984126984126 and parameters: {'Model': 'RandomForestClassifier', 'n_estimators': 44, 'max_depth': 2, 'min_samples_split': 11, 'min_samples_leaf': 10}. Best is trial 2 with value: 0.8419973544973545.\n",
      "[I 2024-04-02 21:20:45,150] Trial 19 finished with value: 0.6073412698412699 and parameters: {'Model': 'LogisticRegression', 'C': 0.0001040711642311942, 'solver': 'lbfgs'}. Best is trial 2 with value: 0.8419973544973545.\n"
     ]
    },
    {
     "name": "stdout",
     "output_type": "stream",
     "text": [
      "Best model: GradientBoostingClassifier\n",
      "Best parameters: {'Model': 'GradientBoostingClassifier', 'n_estimators': 98, 'learning_rate': 0.040083473707634085, 'max_depth': 7}\n"
     ]
    }
   ],
   "source": [
    "study = optuna.create_study(direction='maximize')\n",
    "study.optimize(objective, n_trials=20)\n",
    "\n",
    "best_params = study.best_params\n",
    "best_model_name = best_params[\"Model\"]\n",
    "print(f\"Best model: {best_model_name}\")\n",
    "print(\"Best parameters:\", best_params)"
   ]
  },
  {
   "cell_type": "code",
   "execution_count": 7,
   "metadata": {},
   "outputs": [
    {
     "data": {
      "text/html": [
       "<style>#sk-container-id-1 {color: black;}#sk-container-id-1 pre{padding: 0;}#sk-container-id-1 div.sk-toggleable {background-color: white;}#sk-container-id-1 label.sk-toggleable__label {cursor: pointer;display: block;width: 100%;margin-bottom: 0;padding: 0.3em;box-sizing: border-box;text-align: center;}#sk-container-id-1 label.sk-toggleable__label-arrow:before {content: \"▸\";float: left;margin-right: 0.25em;color: #696969;}#sk-container-id-1 label.sk-toggleable__label-arrow:hover:before {color: black;}#sk-container-id-1 div.sk-estimator:hover label.sk-toggleable__label-arrow:before {color: black;}#sk-container-id-1 div.sk-toggleable__content {max-height: 0;max-width: 0;overflow: hidden;text-align: left;background-color: #f0f8ff;}#sk-container-id-1 div.sk-toggleable__content pre {margin: 0.2em;color: black;border-radius: 0.25em;background-color: #f0f8ff;}#sk-container-id-1 input.sk-toggleable__control:checked~div.sk-toggleable__content {max-height: 200px;max-width: 100%;overflow: auto;}#sk-container-id-1 input.sk-toggleable__control:checked~label.sk-toggleable__label-arrow:before {content: \"▾\";}#sk-container-id-1 div.sk-estimator input.sk-toggleable__control:checked~label.sk-toggleable__label {background-color: #d4ebff;}#sk-container-id-1 div.sk-label input.sk-toggleable__control:checked~label.sk-toggleable__label {background-color: #d4ebff;}#sk-container-id-1 input.sk-hidden--visually {border: 0;clip: rect(1px 1px 1px 1px);clip: rect(1px, 1px, 1px, 1px);height: 1px;margin: -1px;overflow: hidden;padding: 0;position: absolute;width: 1px;}#sk-container-id-1 div.sk-estimator {font-family: monospace;background-color: #f0f8ff;border: 1px dotted black;border-radius: 0.25em;box-sizing: border-box;margin-bottom: 0.5em;}#sk-container-id-1 div.sk-estimator:hover {background-color: #d4ebff;}#sk-container-id-1 div.sk-parallel-item::after {content: \"\";width: 100%;border-bottom: 1px solid gray;flex-grow: 1;}#sk-container-id-1 div.sk-label:hover label.sk-toggleable__label {background-color: #d4ebff;}#sk-container-id-1 div.sk-serial::before {content: \"\";position: absolute;border-left: 1px solid gray;box-sizing: border-box;top: 0;bottom: 0;left: 50%;z-index: 0;}#sk-container-id-1 div.sk-serial {display: flex;flex-direction: column;align-items: center;background-color: white;padding-right: 0.2em;padding-left: 0.2em;position: relative;}#sk-container-id-1 div.sk-item {position: relative;z-index: 1;}#sk-container-id-1 div.sk-parallel {display: flex;align-items: stretch;justify-content: center;background-color: white;position: relative;}#sk-container-id-1 div.sk-item::before, #sk-container-id-1 div.sk-parallel-item::before {content: \"\";position: absolute;border-left: 1px solid gray;box-sizing: border-box;top: 0;bottom: 0;left: 50%;z-index: -1;}#sk-container-id-1 div.sk-parallel-item {display: flex;flex-direction: column;z-index: 1;position: relative;background-color: white;}#sk-container-id-1 div.sk-parallel-item:first-child::after {align-self: flex-end;width: 50%;}#sk-container-id-1 div.sk-parallel-item:last-child::after {align-self: flex-start;width: 50%;}#sk-container-id-1 div.sk-parallel-item:only-child::after {width: 0;}#sk-container-id-1 div.sk-dashed-wrapped {border: 1px dashed gray;margin: 0 0.4em 0.5em 0.4em;box-sizing: border-box;padding-bottom: 0.4em;background-color: white;}#sk-container-id-1 div.sk-label label {font-family: monospace;font-weight: bold;display: inline-block;line-height: 1.2em;}#sk-container-id-1 div.sk-label-container {text-align: center;}#sk-container-id-1 div.sk-container {/* jupyter's `normalize.less` sets `[hidden] { display: none; }` but bootstrap.min.css set `[hidden] { display: none !important; }` so we also need the `!important` here to be able to override the default hidden behavior on the sphinx rendered scikit-learn.org. See: https://github.com/scikit-learn/scikit-learn/issues/21755 */display: inline-block !important;position: relative;}#sk-container-id-1 div.sk-text-repr-fallback {display: none;}</style><div id=\"sk-container-id-1\" class=\"sk-top-container\"><div class=\"sk-text-repr-fallback\"><pre>GradientBoostingClassifier(learning_rate=0.040083473707634085, max_depth=7,\n",
       "                           n_estimators=98, random_state=0)</pre><b>In a Jupyter environment, please rerun this cell to show the HTML representation or trust the notebook. <br />On GitHub, the HTML representation is unable to render, please try loading this page with nbviewer.org.</b></div><div class=\"sk-container\" hidden><div class=\"sk-item\"><div class=\"sk-estimator sk-toggleable\"><input class=\"sk-toggleable__control sk-hidden--visually\" id=\"sk-estimator-id-1\" type=\"checkbox\" checked><label for=\"sk-estimator-id-1\" class=\"sk-toggleable__label sk-toggleable__label-arrow\">GradientBoostingClassifier</label><div class=\"sk-toggleable__content\"><pre>GradientBoostingClassifier(learning_rate=0.040083473707634085, max_depth=7,\n",
       "                           n_estimators=98, random_state=0)</pre></div></div></div></div></div>"
      ],
      "text/plain": [
       "GradientBoostingClassifier(learning_rate=0.040083473707634085, max_depth=7,\n",
       "                           n_estimators=98, random_state=0)"
      ]
     },
     "execution_count": 7,
     "metadata": {},
     "output_type": "execute_result"
    }
   ],
   "source": [
    "model = GradientBoostingClassifier(n_estimators=98, learning_rate=0.040083473707634085, max_depth=7, random_state=0)\n",
    "\n",
    "model.fit(X, y)"
   ]
  },
  {
   "cell_type": "code",
   "execution_count": 8,
   "metadata": {},
   "outputs": [],
   "source": [
    "df_test = pd.read_csv('../../data/test_new_features.csv')"
   ]
  },
  {
   "cell_type": "code",
   "execution_count": 14,
   "metadata": {},
   "outputs": [],
   "source": [
    "df_test.drop('Id', axis=1, inplace=True)"
   ]
  },
  {
   "cell_type": "code",
   "execution_count": 15,
   "metadata": {},
   "outputs": [
    {
     "data": {
      "text/plain": [
       "581012"
      ]
     },
     "execution_count": 15,
     "metadata": {},
     "output_type": "execute_result"
    }
   ],
   "source": [
    "df_test.shape[0]"
   ]
  },
  {
   "cell_type": "code",
   "execution_count": 16,
   "metadata": {},
   "outputs": [],
   "source": [
    "preds = model.predict(df_test)\n"
   ]
  },
  {
   "cell_type": "code",
   "execution_count": 17,
   "metadata": {},
   "outputs": [],
   "source": [
    "# the id are from 1 to df_test.shape[0]\n",
    "\n",
    "submission = pd.DataFrame({'Id': range(1, df_test.shape[0] + 1), 'Cover_Type': preds})\n",
    "\n",
    "submission.to_csv('submission.csv', index=False)"
   ]
  },
  {
   "cell_type": "code",
   "execution_count": null,
   "metadata": {},
   "outputs": [],
   "source": []
  }
 ],
 "metadata": {
  "kernelspec": {
   "display_name": "base",
   "language": "python",
   "name": "python3"
  },
  "language_info": {
   "codemirror_mode": {
    "name": "ipython",
    "version": 3
   },
   "file_extension": ".py",
   "mimetype": "text/x-python",
   "name": "python",
   "nbconvert_exporter": "python",
   "pygments_lexer": "ipython3",
   "version": "3.11.4"
  }
 },
 "nbformat": 4,
 "nbformat_minor": 2
}
