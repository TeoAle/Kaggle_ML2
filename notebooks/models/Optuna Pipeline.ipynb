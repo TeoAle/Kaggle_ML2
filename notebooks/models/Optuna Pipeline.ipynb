{
 "cells": [
  {
   "cell_type": "markdown",
   "metadata": {},
   "source": [
    "# Optuna Pieline for model selection"
   ]
  },
  {
   "cell_type": "markdown",
   "metadata": {},
   "source": [
    "## Kaggle ML2\n",
    "## Matteo A. D'Alessandro, Carlo A. Patti"
   ]
  },
  {
   "cell_type": "code",
   "execution_count": 1,
   "metadata": {},
   "outputs": [],
   "source": [
    "import optuna\n",
    "import numpy as np\n",
    "import pandas as pd\n",
    "\n",
    "from sklearn.metrics import accuracy_score\n",
    "from sklearn.model_selection import StratifiedKFold\n",
    "from sklearn.ensemble import RandomForestClassifier, AdaBoostClassifier, GradientBoostingClassifier, ExtraTreesClassifier\n",
    "from sklearn.linear_model import LogisticRegression\n",
    "from sklearn.preprocessing import StandardScaler\n",
    "from sklearn.pipeline import make_pipeline\n",
    "import xgboost as xgb"
   ]
  },
  {
   "cell_type": "code",
   "execution_count": 2,
   "metadata": {},
   "outputs": [],
   "source": [
    "df = pd.read_csv('../../data/train_new_features.csv')\n",
    "target = 'Cover_Type'\n",
    "y = df[target]\n",
    "X = df.drop(target, axis=1)"
   ]
  },
  {
   "cell_type": "code",
   "execution_count": 3,
   "metadata": {},
   "outputs": [],
   "source": [
    "MODEL_NAME2MODEL = {\n",
    "    \"RandomForestClassifier\": RandomForestClassifier,\n",
    "    \"LogisticRegression\": LogisticRegression,\n",
    "    \"AdaBoostClassifier\": AdaBoostClassifier,\n",
    "    \"GradientBoostingClassifier\": GradientBoostingClassifier,\n",
    "    \"ExtraTreesClassifier\": ExtraTreesClassifier\n",
    "}"
   ]
  },
  {
   "cell_type": "code",
   "execution_count": 4,
   "metadata": {},
   "outputs": [],
   "source": [
    "def evaluate_model(model, trial):\n",
    "    skf = StratifiedKFold(n_splits=5)\n",
    "    scores = []\n",
    "\n",
    "    for train_index, test_index in skf.split(X, y):\n",
    "        X_train, X_test = X.iloc[train_index], X.iloc[test_index]\n",
    "        y_train, y_test = y[train_index], y[test_index]\n",
    "\n",
    "        model.fit(X_train, y_train)\n",
    "        preds = model.predict(X_test)\n",
    "        score = accuracy_score(y_test, preds)\n",
    "        scores.append(score)\n",
    "\n",
    "    return np.mean(scores)"
   ]
  },
  {
   "cell_type": "code",
   "execution_count": 5,
   "metadata": {},
   "outputs": [],
   "source": [
    "def objective(trial):\n",
    "    model_name = trial.suggest_categorical(\"Model\", list(MODEL_NAME2MODEL.keys()))\n",
    "    ModelClass = MODEL_NAME2MODEL[model_name]\n",
    "\n",
    "    if model_name == \"RandomForestClassifier\":\n",
    "        model_params = {\n",
    "            \"n_estimators\": trial.suggest_int(\"n_estimators\", 10, 200),\n",
    "            \"max_depth\": trial.suggest_int(\"max_depth\", 2, 32),\n",
    "            \"min_samples_split\": trial.suggest_int(\"min_samples_split\", 2, 20),\n",
    "            \"min_samples_leaf\": trial.suggest_int(\"min_samples_leaf\", 1, 20),\n",
    "        }\n",
    "    elif model_name == \"LogisticRegression\":\n",
    "        model_params = {\n",
    "            \"C\": trial.suggest_float(\"C\", 1e-4, 1e4, log=True),\n",
    "            \"solver\": trial.suggest_categorical(\"solver\", [\"newton-cg\", \"lbfgs\", \"liblinear\"]),\n",
    "        }\n",
    "        model = make_pipeline(StandardScaler(), ModelClass(**model_params))\n",
    "        return evaluate_model(model, trial)\n",
    "    \n",
    "    elif model_name == \"AdaBoostClassifier\":\n",
    "        model_params = {\n",
    "            \"n_estimators\": trial.suggest_int(\"n_estimators\", 50, 200),\n",
    "            \"learning_rate\": trial.suggest_float(\"learning_rate\", 0.01, 1.0)\n",
    "        }\n",
    "    elif model_name == \"GradientBoostingClassifier\":\n",
    "        model_params = {\n",
    "            \"n_estimators\": trial.suggest_int(\"n_estimators\", 50, 200),\n",
    "            \"learning_rate\": trial.suggest_float(\"learning_rate\", 0.01, 1.0),\n",
    "            \"max_depth\": trial.suggest_int(\"max_depth\", 3, 32),\n",
    "        }\n",
    "    elif model_name == \"ExtraTreesClassifier\":\n",
    "        model_params = {\n",
    "            \"n_estimators\": trial.suggest_int(\"n_estimators\", 100, 300),\n",
    "            \"max_depth\": trial.suggest_int(\"max_depth\", 2, 32),\n",
    "            \"min_samples_split\": trial.suggest_int(\"min_samples_split\", 2, 20),\n",
    "            \"min_samples_leaf\": trial.suggest_int(\"min_samples_leaf\", 1, 20),\n",
    "        }\n",
    "    else:\n",
    "        model_params = {}\n",
    "\n",
    "    model = ModelClass(**model_params)\n",
    "    return evaluate_model(model, trial)"
   ]
  },
  {
   "cell_type": "code",
   "execution_count": 6,
   "metadata": {},
   "outputs": [
    {
     "name": "stderr",
     "output_type": "stream",
     "text": [
      "[I 2024-04-02 19:55:03,455] A new study created in memory with name: no-name-a3c77a79-6ab2-495f-9356-261165d335e4\n",
      "[I 2024-04-02 20:08:57,107] Trial 0 finished with value: 0.827116402116402 and parameters: {'Model': 'GradientBoostingClassifier', 'n_estimators': 178, 'learning_rate': 0.09151353924214442, 'max_depth': 27}. Best is trial 0 with value: 0.827116402116402.\n",
      "[I 2024-04-02 20:12:24,621] Trial 1 finished with value: 0.823015873015873 and parameters: {'Model': 'GradientBoostingClassifier', 'n_estimators': 64, 'learning_rate': 0.2850220523899318, 'max_depth': 30}. Best is trial 0 with value: 0.827116402116402.\n",
      "[I 2024-04-02 20:16:44,683] Trial 2 finished with value: 0.8419973544973545 and parameters: {'Model': 'GradientBoostingClassifier', 'n_estimators': 98, 'learning_rate': 0.040083473707634085, 'max_depth': 7}. Best is trial 2 with value: 0.8419973544973545.\n",
      "[I 2024-04-02 20:17:44,920] Trial 3 finished with value: 0.8097222222222221 and parameters: {'Model': 'GradientBoostingClassifier', 'n_estimators': 147, 'learning_rate': 0.8922091466810739, 'max_depth': 31}. Best is trial 2 with value: 0.8419973544973545.\n",
      "[I 2024-04-02 20:17:53,528] Trial 4 finished with value: 0.40674603174603174 and parameters: {'Model': 'AdaBoostClassifier', 'n_estimators': 108, 'learning_rate': 0.7779583204851398}. Best is trial 2 with value: 0.8419973544973545.\n",
      "[I 2024-04-02 20:17:59,035] Trial 5 finished with value: 0.6671957671957671 and parameters: {'Model': 'LogisticRegression', 'C': 0.2605842669178163, 'solver': 'liblinear'}. Best is trial 2 with value: 0.8419973544973545.\n",
      "[I 2024-04-02 20:22:28,003] Trial 6 finished with value: 0.8261243386243386 and parameters: {'Model': 'GradientBoostingClassifier', 'n_estimators': 94, 'learning_rate': 0.21576324702609254, 'max_depth': 30}. Best is trial 2 with value: 0.8419973544973545.\n",
      "[I 2024-04-02 20:22:37,897] Trial 7 finished with value: 0.7881613756613757 and parameters: {'Model': 'RandomForestClassifier', 'n_estimators': 119, 'max_depth': 17, 'min_samples_split': 16, 'min_samples_leaf': 14}. Best is trial 2 with value: 0.8419973544973545.\n",
      "[I 2024-04-02 20:22:44,419] Trial 8 finished with value: 0.428505291005291 and parameters: {'Model': 'AdaBoostClassifier', 'n_estimators': 81, 'learning_rate': 0.6441037222865718}. Best is trial 2 with value: 0.8419973544973545.\n",
      "[I 2024-04-02 20:22:53,110] Trial 9 finished with value: 0.6716931216931217 and parameters: {'Model': 'LogisticRegression', 'C': 4.862514340564026, 'solver': 'liblinear'}. Best is trial 2 with value: 0.8419973544973545.\n",
      "[I 2024-04-02 20:22:56,195] Trial 10 finished with value: 0.5985449735449736 and parameters: {'Model': 'ExtraTreesClassifier', 'n_estimators': 261, 'max_depth': 3, 'min_samples_split': 2, 'min_samples_leaf': 2}. Best is trial 2 with value: 0.8419973544973545.\n",
      "[I 2024-04-02 20:30:09,460] Trial 11 finished with value: 0.8146825396825397 and parameters: {'Model': 'GradientBoostingClassifier', 'n_estimators': 162, 'learning_rate': 0.012200173072561864, 'max_depth': 7}. Best is trial 2 with value: 0.8419973544973545.\n",
      "[I 2024-04-02 21:08:54,215] Trial 12 finished with value: 0.831547619047619 and parameters: {'Model': 'GradientBoostingClassifier', 'n_estimators': 197, 'learning_rate': 0.014116411782225488, 'max_depth': 19}. Best is trial 2 with value: 0.8419973544973545.\n",
      "[I 2024-04-02 21:08:59,725] Trial 13 finished with value: 0.7168650793650794 and parameters: {'Model': 'ExtraTreesClassifier', 'n_estimators': 236, 'max_depth': 15, 'min_samples_split': 20, 'min_samples_leaf': 20}. Best is trial 2 with value: 0.8419973544973545.\n",
      "[I 2024-04-02 21:09:00,934] Trial 14 finished with value: 0.779695767195767 and parameters: {'Model': 'RandomForestClassifier', 'n_estimators': 15, 'max_depth': 11, 'min_samples_split': 6, 'min_samples_leaf': 3}. Best is trial 2 with value: 0.8419973544973545.\n",
      "[I 2024-04-02 21:13:15,666] Trial 15 finished with value: 0.8360449735449734 and parameters: {'Model': 'GradientBoostingClassifier', 'n_estimators': 139, 'learning_rate': 0.3771547931270081, 'max_depth': 23}. Best is trial 2 with value: 0.8419973544973545.\n",
      "[I 2024-04-02 21:17:12,054] Trial 16 finished with value: 0.8369708994708993 and parameters: {'Model': 'GradientBoostingClassifier', 'n_estimators': 142, 'learning_rate': 0.4334124196908991, 'max_depth': 23}. Best is trial 2 with value: 0.8419973544973545.\n",
      "[I 2024-04-02 21:20:43,501] Trial 17 finished with value: 0.8398809523809524 and parameters: {'Model': 'GradientBoostingClassifier', 'n_estimators': 133, 'learning_rate': 0.48955046223767246, 'max_depth': 23}. Best is trial 2 with value: 0.8419973544973545.\n",
      "[I 2024-04-02 21:20:44,723] Trial 18 finished with value: 0.5876984126984126 and parameters: {'Model': 'RandomForestClassifier', 'n_estimators': 44, 'max_depth': 2, 'min_samples_split': 11, 'min_samples_leaf': 10}. Best is trial 2 with value: 0.8419973544973545.\n",
      "[I 2024-04-02 21:20:45,150] Trial 19 finished with value: 0.6073412698412699 and parameters: {'Model': 'LogisticRegression', 'C': 0.0001040711642311942, 'solver': 'lbfgs'}. Best is trial 2 with value: 0.8419973544973545.\n"
     ]
    },
    {
     "name": "stdout",
     "output_type": "stream",
     "text": [
      "Best model: GradientBoostingClassifier\n",
      "Best parameters: {'Model': 'GradientBoostingClassifier', 'n_estimators': 98, 'learning_rate': 0.040083473707634085, 'max_depth': 7}\n"
     ]
    }
   ],
   "source": [
    "study = optuna.create_study(direction='maximize')\n",
    "study.optimize(objective, n_trials=20)\n",
    "\n",
    "best_params = study.best_params\n",
    "best_model_name = best_params[\"Model\"]\n",
    "print(f\"Best model: {best_model_name}\")\n",
    "print(\"Best parameters:\", best_params)"
   ]
  },
  {
   "cell_type": "code",
   "execution_count": null,
   "metadata": {},
   "outputs": [],
   "source": []
  }
 ],
 "metadata": {
  "kernelspec": {
   "display_name": "base",
   "language": "python",
   "name": "python3"
  },
  "language_info": {
   "codemirror_mode": {
    "name": "ipython",
    "version": 3
   },
   "file_extension": ".py",
   "mimetype": "text/x-python",
   "name": "python",
   "nbconvert_exporter": "python",
   "pygments_lexer": "ipython3",
   "version": "3.11.4"
  }
 },
 "nbformat": 4,
 "nbformat_minor": 2
}
