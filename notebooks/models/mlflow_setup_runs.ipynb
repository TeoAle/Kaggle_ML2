{
 "cells": [
  {
   "cell_type": "code",
   "execution_count": 1,
   "metadata": {},
   "outputs": [],
   "source": [
    "from sklearn.model_selection import train_test_split\n",
    "from sklearn.metrics import mean_absolute_error, mean_squared_error, r2_score\n",
    "from sklearn.preprocessing import FunctionTransformer, OneHotEncoder, OrdinalEncoder\n",
    "from sklearn.preprocessing import PowerTransformer, StandardScaler, MinMaxScaler\n",
    "from sklearn.compose import ColumnTransformer\n",
    "from sklearn.ensemble import RandomForestClassifier\n",
    "import matplotlib.pyplot as plt\n",
    "import seaborn as sns\n",
    "from sklearn.model_selection import cross_val_score\n",
    "from sklearn.metrics import confusion_matrix\n",
    "from sklearn.metrics import accuracy_score, f1_score\n",
    "# from catboost import CatBoostRegressor\n",
    "\n",
    "\n",
    "import numpy as np\n",
    "import pandas as pd\n",
    "import os\n",
    "import sys\n",
    "\n",
    "sys.path.append('../../src/')\n",
    "from dataloader import *\n",
    "from logging_utils import *\n",
    "from estimators import *\n",
    "\n",
    "\n",
    "import mlflow\n",
    "import optuna\n",
    "\n",
    "# start mlflow server from terminal: $mlflow server mlflow server --host 127.0.0.1 --port 8080\n",
    "mlflow.set_tracking_uri(\"http://127.0.0.1:8080\")\n",
    "optuna.logging.set_verbosity(optuna.logging.ERROR)\n",
    "\n",
    "%reload_ext autoreload"
   ]
  },
  {
   "cell_type": "markdown",
   "metadata": {},
   "source": [
    "## Load Data"
   ]
  },
  {
   "cell_type": "code",
   "execution_count": 2,
   "metadata": {},
   "outputs": [],
   "source": [
    "PATH = '../../data/'\n",
    "\n",
    "df = load_train_df(\n",
    "    PATH,\n",
    "    decode_dummies=True,\n",
    "    add_geo_features=True\n",
    "    )"
   ]
  },
  {
   "cell_type": "code",
   "execution_count": 3,
   "metadata": {},
   "outputs": [],
   "source": [
    "y = df['Cover_Type']\n",
    "X = df.drop(['Cover_Type'], axis=1)\n",
    "X_train, X_val, y_train, y_val = train_test_split(X, y, test_size=0.2, random_state=42)"
   ]
  },
  {
   "cell_type": "code",
   "execution_count": 4,
   "metadata": {},
   "outputs": [
    {
     "name": "stderr",
     "output_type": "stream",
     "text": [
      "c:\\Users\\carlo\\miniforge3\\envs\\mlpy\\lib\\site-packages\\sklearn\\preprocessing\\_function_transformer.py:345: UserWarning: With transform=\"pandas\", `func` should return a DataFrame to follow the set_output API.\n",
      "  warnings.warn(\n"
     ]
    },
    {
     "name": "stdout",
     "output_type": "stream",
     "text": [
      "Trial 0 value: 0.8111655657552076\n"
     ]
    },
    {
     "name": "stderr",
     "output_type": "stream",
     "text": [
      "c:\\Users\\carlo\\miniforge3\\envs\\mlpy\\lib\\site-packages\\sklearn\\preprocessing\\_function_transformer.py:345: UserWarning: With transform=\"pandas\", `func` should return a DataFrame to follow the set_output API.\n",
      "  warnings.warn(\n",
      "c:\\Users\\carlo\\miniforge3\\envs\\mlpy\\lib\\site-packages\\sklearn\\preprocessing\\_encoders.py:228: UserWarning: Found unknown categories in columns [1, 2, 3] during transform. These unknown categories will be encoded as all zeros\n",
      "  warnings.warn(\n",
      "c:\\Users\\carlo\\miniforge3\\envs\\mlpy\\lib\\site-packages\\sklearn\\preprocessing\\_encoders.py:228: UserWarning: Found unknown categories in columns [1, 2, 3] during transform. These unknown categories will be encoded as all zeros\n",
      "  warnings.warn(\n"
     ]
    },
    {
     "name": "stdout",
     "output_type": "stream",
     "text": [
      "Trial 1 value: 0.8238107199971468 with  1.5350% improvement\n"
     ]
    },
    {
     "name": "stderr",
     "output_type": "stream",
     "text": [
      "c:\\Users\\carlo\\miniforge3\\envs\\mlpy\\lib\\site-packages\\sklearn\\preprocessing\\_function_transformer.py:345: UserWarning: With transform=\"pandas\", `func` should return a DataFrame to follow the set_output API.\n",
      "  warnings.warn(\n"
     ]
    }
   ],
   "source": [
    "# NOTE: create a new experiment whenever the data changes\n",
    "\n",
    "confirm = input(\"Launch new mlflow experiment? (y/n)\")\n",
    "if confirm == \"y\":\n",
    "    experiment_id = get_or_create_experiment(input(\"Enter experiment name: \"))\n",
    "    mlflow.set_experiment(experiment_id=experiment_id)\n",
    "\n",
    "    run_name = input(\"Enter run name: \")\n",
    "    with mlflow.start_run(\n",
    "        experiment_id=experiment_id,\n",
    "        run_name=run_name\n",
    "        ):\n",
    "\n",
    "        study = optuna.create_study(direction=\"maximize\")\n",
    "\n",
    "        study.optimize(\n",
    "            lambda trial: objective(\n",
    "                trial,\n",
    "                experiment_id,\n",
    "                X_train,\n",
    "                y_train),\n",
    "            n_trials=3,\n",
    "            callbacks=[champion_callback]\n",
    "            )\n",
    "\n",
    "        mlflow.log_params(study.best_params)\n",
    "        # TODO assign parameters to best model properly\n",
    "        # best_model = get_estimator('passthrough')\n",
    "        # best_model.set_params(**study.best_params)\n",
    "        # best_model.fit(X_train, y_train)\n",
    "        # y_pred = best_model.predict(X_val)\n",
    "\n",
    "        # metrics = {\n",
    "        #     \"accuracy\": accuracy_score(y_val, y_pred),\n",
    "        #     \"f1_macro\": f1_score(y_val, y_pred, average='macro'),\n",
    "        # }\n",
    "\n",
    "        # cm = plot_confusion_matrix(y_val, y_pred)\n",
    "\n",
    "        # mlflow.log_figure(cm, \"confusion_matrix.png\")\n",
    "        # mlflow.log_metrics(metrics)\n",
    "        # mlflow.sklearn.log_model(best_model, \"best_model\")\n",
    "        # mlflow.set_tag(\"mlflow.note.content\", \"This is a test run\")\n",
    "\n",
    "else:\n",
    "    print(\"No new experiment created\")\n",
    "    sys.exit(0)\n"
   ]
  }
 ],
 "metadata": {
  "kernelspec": {
   "display_name": "mlpy",
   "language": "python",
   "name": "python3"
  },
  "language_info": {
   "codemirror_mode": {
    "name": "ipython",
    "version": 3
   },
   "file_extension": ".py",
   "mimetype": "text/x-python",
   "name": "python",
   "nbconvert_exporter": "python",
   "pygments_lexer": "ipython3",
   "version": "3.10.13"
  }
 },
 "nbformat": 4,
 "nbformat_minor": 2
}
