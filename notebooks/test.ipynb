{
 "cells": [
  {
   "cell_type": "code",
   "execution_count": 1,
   "metadata": {},
   "outputs": [],
   "source": [
    "import pandas as pd\n",
    "import os\n",
    "import sys"
   ]
  },
  {
   "cell_type": "code",
   "execution_count": 2,
   "metadata": {},
   "outputs": [],
   "source": [
    "sys.path.append('../src/')\n",
    "from dataloader import *"
   ]
  },
  {
   "cell_type": "code",
   "execution_count": 3,
   "metadata": {},
   "outputs": [],
   "source": [
    "PATH = '../data/'\n",
    "\n",
    "df = load_train_df(\n",
    "    PATH,\n",
    "    decode_dummies=True,\n",
    "    add_geo_features=True\n",
    "    )"
   ]
  },
  {
   "cell_type": "code",
   "execution_count": 4,
   "metadata": {},
   "outputs": [
    {
     "name": "stdout",
     "output_type": "stream",
     "text": [
      "<class 'pandas.core.frame.DataFrame'>\n",
      "RangeIndex: 15120 entries, 0 to 15119\n",
      "Data columns (total 15 columns):\n",
      " #   Column                              Non-Null Count  Dtype   \n",
      "---  ------                              --------------  -----   \n",
      " 0   Elevation                           15120 non-null  float64 \n",
      " 1   Aspect                              15120 non-null  float64 \n",
      " 2   Slope                               15120 non-null  float64 \n",
      " 3   Horizontal_Distance_To_Hydrology    15120 non-null  float64 \n",
      " 4   Vertical_Distance_To_Hydrology      15120 non-null  float64 \n",
      " 5   Horizontal_Distance_To_Roadways     15120 non-null  float64 \n",
      " 6   Hillshade_9am                       15120 non-null  float64 \n",
      " 7   Hillshade_Noon                      15120 non-null  float64 \n",
      " 8   Hillshade_3pm                       15120 non-null  float64 \n",
      " 9   Horizontal_Distance_To_Fire_Points  15120 non-null  float64 \n",
      " 10  Cover_Type                          15120 non-null  category\n",
      " 11  Soil_Type                           15120 non-null  category\n",
      " 12  Wilderness_Area                     15120 non-null  category\n",
      " 13  Climatic_Zone                       15120 non-null  category\n",
      " 14  Geologic_Zone                       15120 non-null  category\n",
      "dtypes: category(5), float64(10)\n",
      "memory usage: 1.2 MB\n"
     ]
    }
   ],
   "source": [
    "df.info()"
   ]
  }
 ],
 "metadata": {
  "kernelspec": {
   "display_name": "mlpy",
   "language": "python",
   "name": "python3"
  },
  "language_info": {
   "codemirror_mode": {
    "name": "ipython",
    "version": 3
   },
   "file_extension": ".py",
   "mimetype": "text/x-python",
   "name": "python",
   "nbconvert_exporter": "python",
   "pygments_lexer": "ipython3",
   "version": "3.10.13"
  }
 },
 "nbformat": 4,
 "nbformat_minor": 2
}
